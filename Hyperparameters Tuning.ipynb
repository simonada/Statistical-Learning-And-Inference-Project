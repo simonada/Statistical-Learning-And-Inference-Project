{
 "cells": [
  {
   "cell_type": "code",
   "execution_count": 72,
   "metadata": {
    "collapsed": true
   },
   "outputs": [],
   "source": [
    "from sklearn.model_selection import GridSearchCV\n",
    "from sklearn.svm import SVC\n",
    "import pandas as pd\n",
    "from sklearn.decomposition import PCA\n",
    "from sklearn import preprocessing\n",
    "from sklearn.pipeline import Pipeline\n",
    "from sklearn.exceptions import DataConversionWarning\n",
    "import warnings\n",
    "warnings.filterwarnings(action='ignore', category=DataConversionWarning)\n",
    "from sklearn.linear_model import LogisticRegression\n",
    "from sklearn.discriminant_analysis import LinearDiscriminantAnalysis\n",
    "from sklearn.svm import LinearSVC\n",
    "from sklearn.neighbors import KNeighborsClassifier\n"
   ]
  },
  {
   "cell_type": "code",
   "execution_count": 17,
   "metadata": {
    "collapsed": true
   },
   "outputs": [],
   "source": [
    "train_df = pd.read_csv(\"train.csv\")\n",
    "test_df = pd.read_csv('test.csv')"
   ]
  },
  {
   "cell_type": "code",
   "execution_count": 18,
   "metadata": {
    "collapsed": true
   },
   "outputs": [],
   "source": [
    "X_all_train = train_df.loc[:, train_df.columns != 'categories']\n",
    "y_all_train = train_df.loc[:, train_df.columns == 'categories']"
   ]
  },
  {
   "cell_type": "code",
   "execution_count": 19,
   "metadata": {
    "collapsed": true
   },
   "outputs": [],
   "source": [
    "y_all_train = y_all_train.categories"
   ]
  },
  {
   "cell_type": "markdown",
   "metadata": {},
   "source": [
    "### KNN"
   ]
  },
  {
   "cell_type": "code",
   "execution_count": 77,
   "metadata": {
    "collapsed": true
   },
   "outputs": [],
   "source": [
    "def knn_param_selection(X, y, nfolds):\n",
    "    param_grid = [{'knn__n_neighbors': [3, 5, 10, 15, 20, 25, 30, 35]}]\n",
    "    estimators = []\n",
    "    \n",
    "    estimators.append(('standardize', preprocessing.StandardScaler()))\n",
    "    estimators.append(('pca', PCA(n_components = 20)) )\n",
    "    estimators.append(('knn', KNeighborsClassifier()))\n",
    "    model = Pipeline(estimators)\n",
    "    \n",
    "    grid_search = GridSearchCV(model, param_grid, cv=nfolds)\n",
    "    grid_search.fit(X, y)\n",
    "    grid_search.best_params_\n",
    "    print(grid_search.cv_results_)\n",
    "    print(\"Best parameter (CV score=%0.3f):\" % grid_search.best_score_)\n",
    "    \n",
    "    return grid_search.best_params_"
   ]
  },
  {
   "cell_type": "code",
   "execution_count": 78,
   "metadata": {},
   "outputs": [
    {
     "name": "stdout",
     "output_type": "stream",
     "text": [
      "{'mean_fit_time': array([3.41453819, 3.33342352, 3.33659253, 3.33388844, 3.35444303,\n",
      "       3.35973697, 3.61288295, 3.30878563]), 'std_fit_time': array([0.12125389, 0.01673462, 0.02698342, 0.00772082, 0.0111728 ,\n",
      "       0.01652937, 0.25376277, 0.03712977]), 'mean_score_time': array([0.20488873, 0.20382757, 0.21690397, 0.25602598, 0.27662616,\n",
      "       0.27920032, 0.32909608, 0.26586776]), 'std_score_time': array([0.01994925, 0.00730554, 0.00749196, 0.01800806, 0.00380724,\n",
      "       0.00835077, 0.04041354, 0.00868189]), 'param_knn__n_neighbors': masked_array(data=[3, 5, 10, 15, 20, 25, 30, 35],\n",
      "             mask=[False, False, False, False, False, False, False, False],\n",
      "       fill_value='?',\n",
      "            dtype=object), 'params': [{'knn__n_neighbors': 3}, {'knn__n_neighbors': 5}, {'knn__n_neighbors': 10}, {'knn__n_neighbors': 15}, {'knn__n_neighbors': 20}, {'knn__n_neighbors': 25}, {'knn__n_neighbors': 30}, {'knn__n_neighbors': 35}], 'split0_test_score': array([0.98141026, 0.98397436, 0.98525641, 0.98461538, 0.98397436,\n",
      "       0.98397436, 0.98589744, 0.98525641]), 'split1_test_score': array([0.9724359 , 0.97051282, 0.97179487, 0.97307692, 0.97307692,\n",
      "       0.97435897, 0.97307692, 0.9724359 ]), 'split2_test_score': array([0.98012821, 0.98076923, 0.98141026, 0.98076923, 0.97948718,\n",
      "       0.98076923, 0.97948718, 0.98012821]), 'split3_test_score': array([0.98333333, 0.98269231, 0.98205128, 0.98269231, 0.98333333,\n",
      "       0.98333333, 0.98269231, 0.98205128]), 'split4_test_score': array([0.98141026, 0.98269231, 0.98397436, 0.98269231, 0.98333333,\n",
      "       0.98333333, 0.98397436, 0.98461538]), 'mean_test_score': array([0.97974359, 0.98012821, 0.98089744, 0.98076923, 0.98064103,\n",
      "       0.98115385, 0.98102564, 0.98089744]), 'std_test_score': array([0.00379453, 0.00491546, 0.00475224, 0.00403388, 0.00410256,\n",
      "       0.00357138, 0.00448901, 0.00461182]), 'rank_test_score': array([8, 7, 3, 5, 6, 1, 2, 3], dtype=int32), 'split0_train_score': array([0.98846154, 0.9875    , 0.98349359, 0.98429487, 0.98269231,\n",
      "       0.98333333, 0.98221154, 0.98189103]), 'split1_train_score': array([0.98942308, 0.98669872, 0.98461538, 0.98589744, 0.9849359 ,\n",
      "       0.98397436, 0.98317308, 0.98285256]), 'split2_train_score': array([0.98846154, 0.98605769, 0.98349359, 0.98461538, 0.9838141 ,\n",
      "       0.98365385, 0.98301282, 0.98301282]), 'split3_train_score': array([0.98942308, 0.98557692, 0.98413462, 0.9838141 , 0.98365385,\n",
      "       0.98301282, 0.98157051, 0.98125   ]), 'split4_train_score': array([0.98894231, 0.98541667, 0.98477564, 0.9838141 , 0.98413462,\n",
      "       0.98317308, 0.98253205, 0.98205128]), 'mean_train_score': array([0.98894231, 0.98625   , 0.98410256, 0.98448718, 0.98384615,\n",
      "       0.98342949, 0.9825    , 0.98221154]), 'std_train_score': array([0.00043001, 0.00076789, 0.00054014, 0.00076789, 0.00072665,\n",
      "       0.0003452 , 0.00057692, 0.00064899])}\n",
      "Best parameter (CV score=0.981):\n"
     ]
    },
    {
     "data": {
      "text/plain": [
       "{'knn__n_neighbors': 25}"
      ]
     },
     "execution_count": 78,
     "metadata": {},
     "output_type": "execute_result"
    }
   ],
   "source": [
    "knn_param_selection(X_all_train, y_all_train, 5)"
   ]
  },
  {
   "cell_type": "markdown",
   "metadata": {},
   "source": [
    "### SVC"
   ]
  },
  {
   "cell_type": "code",
   "execution_count": 23,
   "metadata": {
    "collapsed": true
   },
   "outputs": [],
   "source": [
    "def svc_param_selection(X, y, nfolds):\n",
    "    param_grid = [{'svm__kernel': ['rbf'], 'svm__gamma': [1e-3, 1e-4, 1],\n",
    "                     'svm__C': [1, 10, 100, 1000]},\n",
    "                    {'svm__kernel': ['linear'], 'svm__C': [0.1, 1, 10, 100, 1000]}]\n",
    "    estimators = []\n",
    "    \n",
    "    estimators.append(('standardize', preprocessing.StandardScaler()))\n",
    "    estimators.append(('pca', PCA(n_components = 2500)) )\n",
    "    estimators.append(('svm', SVC()))\n",
    "    model = Pipeline(estimators)\n",
    "    \n",
    "    grid_search = GridSearchCV(model, param_grid, cv=nfolds)\n",
    "    grid_search.fit(X, y)\n",
    "    grid_search.best_params_\n",
    "    return grid_search.best_params_"
   ]
  },
  {
   "cell_type": "code",
   "execution_count": 27,
   "metadata": {},
   "outputs": [
    {
     "data": {
      "text/plain": [
       "{'svm__C': 10, 'svm__gamma': 0.0001, 'svm__kernel': 'rbf'}"
      ]
     },
     "execution_count": 27,
     "metadata": {},
     "output_type": "execute_result"
    }
   ],
   "source": [
    "svc_param_selection(X_all_train, y_all_train, 5)"
   ]
  },
  {
   "cell_type": "code",
   "execution_count": 58,
   "metadata": {
    "collapsed": true
   },
   "outputs": [],
   "source": [
    "def svc_linear_param_selection(X, y, nfolds):\n",
    "    param_grid = [{'svm__penalty': ['l2'], 'svm__C': [0.001, 0.1, 1, 10, 100]}]\n",
    "    estimators = []\n",
    "    \n",
    "    estimators.append(('standardize', preprocessing.StandardScaler()))\n",
    "    estimators.append(('svm', LinearSVC()))\n",
    "    model = Pipeline(estimators)\n",
    "    \n",
    "    grid_search = GridSearchCV(model, param_grid, cv=nfolds)\n",
    "    grid_search.fit(X, y)\n",
    "    grid_search.best_params_\n",
    "    print(grid_search.cv_results_)\n",
    "    print(\"Best parameter (CV score=%0.3f):\" % grid_search.best_score_)\n",
    "    return grid_search.best_params_"
   ]
  },
  {
   "cell_type": "code",
   "execution_count": 59,
   "metadata": {},
   "outputs": [
    {
     "name": "stdout",
     "output_type": "stream",
     "text": [
      "{'mean_fit_time': array([ 45.19773569,  61.4805788 ,  62.71985173, 520.12584138,\n",
      "        63.05641413]), 'std_fit_time': array([1.52283062e+00, 6.13790180e-01, 1.58236168e+00, 9.16623520e+02,\n",
      "       1.73121300e+00]), 'mean_score_time': array([0.10251689, 0.09179206, 0.08629546, 0.09521718, 0.08727288]), 'std_score_time': array([0.02573509, 0.0030709 , 0.00384219, 0.02124715, 0.00386357]), 'param_svm__C': masked_array(data=[0.001, 0.1, 1, 10, 100],\n",
      "             mask=[False, False, False, False, False],\n",
      "       fill_value='?',\n",
      "            dtype=object), 'param_svm__penalty': masked_array(data=['l2', 'l2', 'l2', 'l2', 'l2'],\n",
      "             mask=[False, False, False, False, False],\n",
      "       fill_value='?',\n",
      "            dtype=object), 'params': [{'svm__C': 0.001, 'svm__penalty': 'l2'}, {'svm__C': 0.1, 'svm__penalty': 'l2'}, {'svm__C': 1, 'svm__penalty': 'l2'}, {'svm__C': 10, 'svm__penalty': 'l2'}, {'svm__C': 100, 'svm__penalty': 'l2'}], 'split0_test_score': array([0.98589744, 0.98397436, 0.98461538, 0.98461538, 0.98461538]), 'split1_test_score': array([0.98205128, 0.98076923, 0.98012821, 0.98012821, 0.98012821]), 'split2_test_score': array([0.98846154, 0.98653846, 0.98589744, 0.98589744, 0.98589744]), 'split3_test_score': array([0.98461538, 0.98397436, 0.98397436, 0.98397436, 0.98397436]), 'split4_test_score': array([0.98974359, 0.98846154, 0.98846154, 0.98846154, 0.98846154]), 'mean_test_score': array([0.98615385, 0.98474359, 0.98461538, 0.98461538, 0.98461538]), 'std_test_score': array([0.00273771, 0.00260859, 0.00271964, 0.00271964, 0.00271964]), 'rank_test_score': array([1, 2, 3, 3, 3], dtype=int32), 'split0_train_score': array([0.99919872, 1.        , 1.        , 1.        , 1.        ]), 'split1_train_score': array([0.99935897, 1.        , 1.        , 1.        , 1.        ]), 'split2_train_score': array([0.99935897, 1.        , 1.        , 1.        , 1.        ]), 'split3_train_score': array([0.99951923, 1.        , 1.        , 1.        , 1.        ]), 'split4_train_score': array([0.99935897, 1.        , 1.        , 1.        , 1.        ]), 'mean_train_score': array([0.99935897, 1.        , 1.        , 1.        , 1.        ]), 'std_train_score': array([0.00010136, 0.        , 0.        , 0.        , 0.        ])}\n",
      "Best parameter (CV score=0.986):\n"
     ]
    },
    {
     "data": {
      "text/plain": [
       "{'svm__C': 0.001, 'svm__penalty': 'l2'}"
      ]
     },
     "execution_count": 59,
     "metadata": {},
     "output_type": "execute_result"
    }
   ],
   "source": [
    "svc_linear_param_selection(X_all_train, y_all_train, 5)"
   ]
  },
  {
   "cell_type": "markdown",
   "metadata": {},
   "source": [
    "### Log Regression"
   ]
  },
  {
   "cell_type": "code",
   "execution_count": 24,
   "metadata": {
    "collapsed": true
   },
   "outputs": [],
   "source": [
    "def log_param_selection(X, y, nfolds):\n",
    "    param_grid = {'logreg__C': [0.01, 0.1, 1, 10, 100], 'logreg__penalty': ['l1', 'l2']}\n",
    "    log_reg = LogisticRegression(solver='saga', max_iter=3000, n_jobs=-1)\n",
    "    \n",
    "    estimators = []\n",
    "    \n",
    "    estimators.append(('standardize', preprocessing.StandardScaler()))\n",
    "    estimators.append(('pca', PCA(n_components = 1100)) )\n",
    "    estimators.append(('logreg', log_reg))\n",
    "    model = Pipeline(estimators)\n",
    "    \n",
    "    grid_search = GridSearchCV(model, param_grid, cv=nfolds)\n",
    "    grid_search.fit(X, y)\n",
    "    grid_search.best_params_\n",
    "    \n",
    "    return grid_search.best_params_"
   ]
  },
  {
   "cell_type": "code",
   "execution_count": 25,
   "metadata": {},
   "outputs": [
    {
     "name": "stderr",
     "output_type": "stream",
     "text": [
      "/Users/sdoneva/anaconda/lib/python3.6/site-packages/sklearn/linear_model/logistic.py:460: FutureWarning: Default multi_class will be changed to 'auto' in 0.22. Specify the multi_class option to silence this warning.\n",
      "  \"this warning.\", FutureWarning)\n",
      "/Users/sdoneva/anaconda/lib/python3.6/site-packages/sklearn/linear_model/logistic.py:460: FutureWarning: Default multi_class will be changed to 'auto' in 0.22. Specify the multi_class option to silence this warning.\n",
      "  \"this warning.\", FutureWarning)\n",
      "/Users/sdoneva/anaconda/lib/python3.6/site-packages/sklearn/linear_model/logistic.py:460: FutureWarning: Default multi_class will be changed to 'auto' in 0.22. Specify the multi_class option to silence this warning.\n",
      "  \"this warning.\", FutureWarning)\n",
      "/Users/sdoneva/anaconda/lib/python3.6/site-packages/sklearn/linear_model/logistic.py:460: FutureWarning: Default multi_class will be changed to 'auto' in 0.22. Specify the multi_class option to silence this warning.\n",
      "  \"this warning.\", FutureWarning)\n",
      "/Users/sdoneva/anaconda/lib/python3.6/site-packages/sklearn/linear_model/logistic.py:460: FutureWarning: Default multi_class will be changed to 'auto' in 0.22. Specify the multi_class option to silence this warning.\n",
      "  \"this warning.\", FutureWarning)\n",
      "/Users/sdoneva/anaconda/lib/python3.6/site-packages/sklearn/linear_model/logistic.py:460: FutureWarning: Default multi_class will be changed to 'auto' in 0.22. Specify the multi_class option to silence this warning.\n",
      "  \"this warning.\", FutureWarning)\n",
      "/Users/sdoneva/anaconda/lib/python3.6/site-packages/sklearn/linear_model/logistic.py:460: FutureWarning: Default multi_class will be changed to 'auto' in 0.22. Specify the multi_class option to silence this warning.\n",
      "  \"this warning.\", FutureWarning)\n",
      "/Users/sdoneva/anaconda/lib/python3.6/site-packages/sklearn/linear_model/logistic.py:460: FutureWarning: Default multi_class will be changed to 'auto' in 0.22. Specify the multi_class option to silence this warning.\n",
      "  \"this warning.\", FutureWarning)\n",
      "/Users/sdoneva/anaconda/lib/python3.6/site-packages/sklearn/linear_model/logistic.py:460: FutureWarning: Default multi_class will be changed to 'auto' in 0.22. Specify the multi_class option to silence this warning.\n",
      "  \"this warning.\", FutureWarning)\n",
      "/Users/sdoneva/anaconda/lib/python3.6/site-packages/sklearn/linear_model/logistic.py:460: FutureWarning: Default multi_class will be changed to 'auto' in 0.22. Specify the multi_class option to silence this warning.\n",
      "  \"this warning.\", FutureWarning)\n",
      "/Users/sdoneva/anaconda/lib/python3.6/site-packages/sklearn/linear_model/logistic.py:460: FutureWarning: Default multi_class will be changed to 'auto' in 0.22. Specify the multi_class option to silence this warning.\n",
      "  \"this warning.\", FutureWarning)\n",
      "/Users/sdoneva/anaconda/lib/python3.6/site-packages/sklearn/linear_model/logistic.py:460: FutureWarning: Default multi_class will be changed to 'auto' in 0.22. Specify the multi_class option to silence this warning.\n",
      "  \"this warning.\", FutureWarning)\n",
      "/Users/sdoneva/anaconda/lib/python3.6/site-packages/sklearn/linear_model/logistic.py:460: FutureWarning: Default multi_class will be changed to 'auto' in 0.22. Specify the multi_class option to silence this warning.\n",
      "  \"this warning.\", FutureWarning)\n",
      "/Users/sdoneva/anaconda/lib/python3.6/site-packages/sklearn/linear_model/logistic.py:460: FutureWarning: Default multi_class will be changed to 'auto' in 0.22. Specify the multi_class option to silence this warning.\n",
      "  \"this warning.\", FutureWarning)\n",
      "/Users/sdoneva/anaconda/lib/python3.6/site-packages/sklearn/linear_model/logistic.py:460: FutureWarning: Default multi_class will be changed to 'auto' in 0.22. Specify the multi_class option to silence this warning.\n",
      "  \"this warning.\", FutureWarning)\n",
      "/Users/sdoneva/anaconda/lib/python3.6/site-packages/sklearn/linear_model/logistic.py:460: FutureWarning: Default multi_class will be changed to 'auto' in 0.22. Specify the multi_class option to silence this warning.\n",
      "  \"this warning.\", FutureWarning)\n",
      "/Users/sdoneva/anaconda/lib/python3.6/site-packages/sklearn/linear_model/logistic.py:460: FutureWarning: Default multi_class will be changed to 'auto' in 0.22. Specify the multi_class option to silence this warning.\n",
      "  \"this warning.\", FutureWarning)\n",
      "/Users/sdoneva/anaconda/lib/python3.6/site-packages/sklearn/linear_model/logistic.py:460: FutureWarning: Default multi_class will be changed to 'auto' in 0.22. Specify the multi_class option to silence this warning.\n",
      "  \"this warning.\", FutureWarning)\n",
      "/Users/sdoneva/anaconda/lib/python3.6/site-packages/sklearn/linear_model/logistic.py:460: FutureWarning: Default multi_class will be changed to 'auto' in 0.22. Specify the multi_class option to silence this warning.\n",
      "  \"this warning.\", FutureWarning)\n",
      "/Users/sdoneva/anaconda/lib/python3.6/site-packages/sklearn/linear_model/logistic.py:460: FutureWarning: Default multi_class will be changed to 'auto' in 0.22. Specify the multi_class option to silence this warning.\n",
      "  \"this warning.\", FutureWarning)\n",
      "/Users/sdoneva/anaconda/lib/python3.6/site-packages/sklearn/linear_model/logistic.py:460: FutureWarning: Default multi_class will be changed to 'auto' in 0.22. Specify the multi_class option to silence this warning.\n",
      "  \"this warning.\", FutureWarning)\n",
      "/Users/sdoneva/anaconda/lib/python3.6/site-packages/sklearn/linear_model/logistic.py:460: FutureWarning: Default multi_class will be changed to 'auto' in 0.22. Specify the multi_class option to silence this warning.\n",
      "  \"this warning.\", FutureWarning)\n",
      "/Users/sdoneva/anaconda/lib/python3.6/site-packages/sklearn/linear_model/logistic.py:460: FutureWarning: Default multi_class will be changed to 'auto' in 0.22. Specify the multi_class option to silence this warning.\n",
      "  \"this warning.\", FutureWarning)\n",
      "/Users/sdoneva/anaconda/lib/python3.6/site-packages/sklearn/linear_model/logistic.py:460: FutureWarning: Default multi_class will be changed to 'auto' in 0.22. Specify the multi_class option to silence this warning.\n",
      "  \"this warning.\", FutureWarning)\n",
      "/Users/sdoneva/anaconda/lib/python3.6/site-packages/sklearn/linear_model/logistic.py:460: FutureWarning: Default multi_class will be changed to 'auto' in 0.22. Specify the multi_class option to silence this warning.\n",
      "  \"this warning.\", FutureWarning)\n",
      "/Users/sdoneva/anaconda/lib/python3.6/site-packages/sklearn/linear_model/logistic.py:460: FutureWarning: Default multi_class will be changed to 'auto' in 0.22. Specify the multi_class option to silence this warning.\n",
      "  \"this warning.\", FutureWarning)\n",
      "/Users/sdoneva/anaconda/lib/python3.6/site-packages/sklearn/linear_model/logistic.py:460: FutureWarning: Default multi_class will be changed to 'auto' in 0.22. Specify the multi_class option to silence this warning.\n",
      "  \"this warning.\", FutureWarning)\n",
      "/Users/sdoneva/anaconda/lib/python3.6/site-packages/sklearn/linear_model/logistic.py:460: FutureWarning: Default multi_class will be changed to 'auto' in 0.22. Specify the multi_class option to silence this warning.\n",
      "  \"this warning.\", FutureWarning)\n",
      "/Users/sdoneva/anaconda/lib/python3.6/site-packages/sklearn/linear_model/logistic.py:460: FutureWarning: Default multi_class will be changed to 'auto' in 0.22. Specify the multi_class option to silence this warning.\n",
      "  \"this warning.\", FutureWarning)\n",
      "/Users/sdoneva/anaconda/lib/python3.6/site-packages/sklearn/linear_model/logistic.py:460: FutureWarning: Default multi_class will be changed to 'auto' in 0.22. Specify the multi_class option to silence this warning.\n",
      "  \"this warning.\", FutureWarning)\n",
      "/Users/sdoneva/anaconda/lib/python3.6/site-packages/sklearn/linear_model/logistic.py:460: FutureWarning: Default multi_class will be changed to 'auto' in 0.22. Specify the multi_class option to silence this warning.\n",
      "  \"this warning.\", FutureWarning)\n",
      "/Users/sdoneva/anaconda/lib/python3.6/site-packages/sklearn/linear_model/logistic.py:460: FutureWarning: Default multi_class will be changed to 'auto' in 0.22. Specify the multi_class option to silence this warning.\n",
      "  \"this warning.\", FutureWarning)\n",
      "/Users/sdoneva/anaconda/lib/python3.6/site-packages/sklearn/linear_model/logistic.py:460: FutureWarning: Default multi_class will be changed to 'auto' in 0.22. Specify the multi_class option to silence this warning.\n",
      "  \"this warning.\", FutureWarning)\n"
     ]
    },
    {
     "name": "stderr",
     "output_type": "stream",
     "text": [
      "/Users/sdoneva/anaconda/lib/python3.6/site-packages/sklearn/linear_model/logistic.py:460: FutureWarning: Default multi_class will be changed to 'auto' in 0.22. Specify the multi_class option to silence this warning.\n",
      "  \"this warning.\", FutureWarning)\n",
      "/Users/sdoneva/anaconda/lib/python3.6/site-packages/sklearn/linear_model/logistic.py:460: FutureWarning: Default multi_class will be changed to 'auto' in 0.22. Specify the multi_class option to silence this warning.\n",
      "  \"this warning.\", FutureWarning)\n",
      "/Users/sdoneva/anaconda/lib/python3.6/site-packages/sklearn/linear_model/logistic.py:460: FutureWarning: Default multi_class will be changed to 'auto' in 0.22. Specify the multi_class option to silence this warning.\n",
      "  \"this warning.\", FutureWarning)\n",
      "/Users/sdoneva/anaconda/lib/python3.6/site-packages/sklearn/linear_model/logistic.py:460: FutureWarning: Default multi_class will be changed to 'auto' in 0.22. Specify the multi_class option to silence this warning.\n",
      "  \"this warning.\", FutureWarning)\n",
      "/Users/sdoneva/anaconda/lib/python3.6/site-packages/sklearn/linear_model/logistic.py:460: FutureWarning: Default multi_class will be changed to 'auto' in 0.22. Specify the multi_class option to silence this warning.\n",
      "  \"this warning.\", FutureWarning)\n",
      "/Users/sdoneva/anaconda/lib/python3.6/site-packages/sklearn/linear_model/logistic.py:460: FutureWarning: Default multi_class will be changed to 'auto' in 0.22. Specify the multi_class option to silence this warning.\n",
      "  \"this warning.\", FutureWarning)\n",
      "/Users/sdoneva/anaconda/lib/python3.6/site-packages/sklearn/linear_model/logistic.py:460: FutureWarning: Default multi_class will be changed to 'auto' in 0.22. Specify the multi_class option to silence this warning.\n",
      "  \"this warning.\", FutureWarning)\n",
      "/Users/sdoneva/anaconda/lib/python3.6/site-packages/sklearn/linear_model/logistic.py:460: FutureWarning: Default multi_class will be changed to 'auto' in 0.22. Specify the multi_class option to silence this warning.\n",
      "  \"this warning.\", FutureWarning)\n",
      "/Users/sdoneva/anaconda/lib/python3.6/site-packages/sklearn/linear_model/logistic.py:460: FutureWarning: Default multi_class will be changed to 'auto' in 0.22. Specify the multi_class option to silence this warning.\n",
      "  \"this warning.\", FutureWarning)\n",
      "/Users/sdoneva/anaconda/lib/python3.6/site-packages/sklearn/linear_model/logistic.py:460: FutureWarning: Default multi_class will be changed to 'auto' in 0.22. Specify the multi_class option to silence this warning.\n",
      "  \"this warning.\", FutureWarning)\n",
      "/Users/sdoneva/anaconda/lib/python3.6/site-packages/sklearn/linear_model/logistic.py:460: FutureWarning: Default multi_class will be changed to 'auto' in 0.22. Specify the multi_class option to silence this warning.\n",
      "  \"this warning.\", FutureWarning)\n",
      "/Users/sdoneva/anaconda/lib/python3.6/site-packages/sklearn/linear_model/logistic.py:460: FutureWarning: Default multi_class will be changed to 'auto' in 0.22. Specify the multi_class option to silence this warning.\n",
      "  \"this warning.\", FutureWarning)\n",
      "/Users/sdoneva/anaconda/lib/python3.6/site-packages/sklearn/linear_model/logistic.py:460: FutureWarning: Default multi_class will be changed to 'auto' in 0.22. Specify the multi_class option to silence this warning.\n",
      "  \"this warning.\", FutureWarning)\n",
      "/Users/sdoneva/anaconda/lib/python3.6/site-packages/sklearn/linear_model/logistic.py:460: FutureWarning: Default multi_class will be changed to 'auto' in 0.22. Specify the multi_class option to silence this warning.\n",
      "  \"this warning.\", FutureWarning)\n",
      "/Users/sdoneva/anaconda/lib/python3.6/site-packages/sklearn/linear_model/logistic.py:460: FutureWarning: Default multi_class will be changed to 'auto' in 0.22. Specify the multi_class option to silence this warning.\n",
      "  \"this warning.\", FutureWarning)\n",
      "/Users/sdoneva/anaconda/lib/python3.6/site-packages/sklearn/linear_model/logistic.py:460: FutureWarning: Default multi_class will be changed to 'auto' in 0.22. Specify the multi_class option to silence this warning.\n",
      "  \"this warning.\", FutureWarning)\n",
      "/Users/sdoneva/anaconda/lib/python3.6/site-packages/sklearn/linear_model/logistic.py:460: FutureWarning: Default multi_class will be changed to 'auto' in 0.22. Specify the multi_class option to silence this warning.\n",
      "  \"this warning.\", FutureWarning)\n",
      "/Users/sdoneva/anaconda/lib/python3.6/site-packages/sklearn/linear_model/logistic.py:460: FutureWarning: Default multi_class will be changed to 'auto' in 0.22. Specify the multi_class option to silence this warning.\n",
      "  \"this warning.\", FutureWarning)\n"
     ]
    },
    {
     "data": {
      "text/plain": [
       "{'logreg__C': 0.01, 'logreg__penalty': 'l2'}"
      ]
     },
     "execution_count": 25,
     "metadata": {},
     "output_type": "execute_result"
    }
   ],
   "source": [
    "log_param_selection(X_all_train, y_all_train, 5)"
   ]
  },
  {
   "cell_type": "code",
   "execution_count": null,
   "metadata": {
    "collapsed": true
   },
   "outputs": [],
   "source": [
    "# Best results: {'logreg__C': 0.01, 'logreg__penalty': 'l2'}"
   ]
  },
  {
   "cell_type": "markdown",
   "metadata": {},
   "source": [
    "### LDA"
   ]
  },
  {
   "cell_type": "code",
   "execution_count": 44,
   "metadata": {
    "collapsed": true
   },
   "outputs": [],
   "source": [
    "def lda_param_selection(X, y, nfolds):\n",
    "    param_grid = {'lda__shrinkage': [0.001, 0.01, 0.1, 0.5, 1], 'lda__solver': ['eigen', 'lsqr']}\n",
    "    lda_clf = LinearDiscriminantAnalysis()\n",
    "    \n",
    "    estimators = []\n",
    "    \n",
    "    estimators.append(('standardize', preprocessing.StandardScaler()))\n",
    "    estimators.append(('pca', PCA(n_components = 280)) )\n",
    "    estimators.append(('lda', lda_clf))\n",
    "    model = Pipeline(estimators)\n",
    "    \n",
    "    grid_search = GridSearchCV(model, param_grid, cv=nfolds)\n",
    "    grid_search.fit(X, y)\n",
    "    grid_search.best_params_\n",
    "    print(grid_search.cv_results_)\n",
    "    print(\"Best parameter (CV score=%0.3f):\" % grid_search.best_score_)\n",
    "    \n",
    "    return grid_search.best_params_"
   ]
  },
  {
   "cell_type": "code",
   "execution_count": 45,
   "metadata": {},
   "outputs": [
    {
     "name": "stdout",
     "output_type": "stream",
     "text": [
      "{'mean_fit_time': array([10.17535458,  9.40955667,  9.58032455,  9.18634529,  9.60617781,\n",
      "        9.65583901,  9.45207477,  9.74630136, 10.07708864,  9.81479502]), 'std_fit_time': array([0.61336399, 0.21813444, 0.37003548, 0.23466287, 0.73102366,\n",
      "       0.50747548, 0.44879976, 0.72955638, 0.68363976, 0.44849303]), 'mean_score_time': array([0.26049762, 0.23443823, 0.23392305, 0.24764252, 0.23865905,\n",
      "       0.24059424, 0.23868427, 0.26641874, 0.2640655 , 0.24395432]), 'std_score_time': array([0.04334986, 0.00809539, 0.01137945, 0.03278618, 0.01584328,\n",
      "       0.03087698, 0.0080542 , 0.06980639, 0.0385549 , 0.03534209]), 'param_lda__shrinkage': masked_array(data=[0.001, 0.001, 0.01, 0.01, 0.1, 0.1, 0.5, 0.5, 1, 1],\n",
      "             mask=[False, False, False, False, False, False, False, False,\n",
      "                   False, False],\n",
      "       fill_value='?',\n",
      "            dtype=object), 'param_lda__solver': masked_array(data=['eigen', 'lsqr', 'eigen', 'lsqr', 'eigen', 'lsqr',\n",
      "                   'eigen', 'lsqr', 'eigen', 'lsqr'],\n",
      "             mask=[False, False, False, False, False, False, False, False,\n",
      "                   False, False],\n",
      "       fill_value='?',\n",
      "            dtype=object), 'params': [{'lda__shrinkage': 0.001, 'lda__solver': 'eigen'}, {'lda__shrinkage': 0.001, 'lda__solver': 'lsqr'}, {'lda__shrinkage': 0.01, 'lda__solver': 'eigen'}, {'lda__shrinkage': 0.01, 'lda__solver': 'lsqr'}, {'lda__shrinkage': 0.1, 'lda__solver': 'eigen'}, {'lda__shrinkage': 0.1, 'lda__solver': 'lsqr'}, {'lda__shrinkage': 0.5, 'lda__solver': 'eigen'}, {'lda__shrinkage': 0.5, 'lda__solver': 'lsqr'}, {'lda__shrinkage': 1, 'lda__solver': 'eigen'}, {'lda__shrinkage': 1, 'lda__solver': 'lsqr'}], 'split0_test_score': array([0.98205128, 0.98205128, 0.98333333, 0.98141026, 0.98205128,\n",
      "       0.98269231, 0.98269231, 0.98333333, 0.97564103, 0.97564103]), 'split1_test_score': array([0.9775641 , 0.97692308, 0.97692308, 0.9775641 , 0.97628205,\n",
      "       0.9775641 , 0.97435897, 0.97435897, 0.96282051, 0.96282051]), 'split2_test_score': array([0.98012821, 0.98076923, 0.98141026, 0.98205128, 0.98076923,\n",
      "       0.98076923, 0.98012821, 0.98076923, 0.97115385, 0.97115385]), 'split3_test_score': array([0.98269231, 0.98397436, 0.98397436, 0.98269231, 0.98269231,\n",
      "       0.98141026, 0.97820513, 0.97820513, 0.96923077, 0.96923077]), 'split4_test_score': array([0.98269231, 0.98397436, 0.98397436, 0.98461538, 0.98461538,\n",
      "       0.98397436, 0.98333333, 0.98333333, 0.9775641 , 0.9775641 ]), 'mean_test_score': array([0.98102564, 0.98153846, 0.98192308, 0.98166667, 0.98128205,\n",
      "       0.98128205, 0.97974359, 0.98      , 0.97128205, 0.97128205]), 'std_test_score': array([0.00196952, 0.00260859, 0.00267085, 0.0023148 , 0.00279122,\n",
      "       0.00216055, 0.00325853, 0.00340167, 0.00518241, 0.00518241]), 'rank_test_score': array([6, 3, 1, 2, 4, 4, 8, 7, 9, 9], dtype=int32), 'split0_train_score': array([0.98878205, 0.9875    , 0.98814103, 0.98766026, 0.98766026,\n",
      "       0.9875    , 0.9838141 , 0.98349359, 0.97355769, 0.97339744]), 'split1_train_score': array([0.98701923, 0.98669872, 0.98717949, 0.98701923, 0.98637821,\n",
      "       0.98669872, 0.98221154, 0.98221154, 0.97259615, 0.97259615]), 'split2_train_score': array([0.98621795, 0.98669872, 0.98637821, 0.98685897, 0.98605769,\n",
      "       0.98637821, 0.98365385, 0.98301282, 0.97275641, 0.97291667]), 'split3_train_score': array([0.98589744, 0.98621795, 0.98605769, 0.98605769, 0.98525641,\n",
      "       0.98557692, 0.98333333, 0.98301282, 0.97307692, 0.97291667]), 'split4_train_score': array([0.98637821, 0.98621795, 0.98621795, 0.98589744, 0.98573718,\n",
      "       0.98541667, 0.98301282, 0.98269231, 0.97323718, 0.97291667]), 'mean_train_score': array([0.98685897, 0.98666667, 0.98679487, 0.98669872, 0.98621795,\n",
      "       0.9863141 , 0.98320513, 0.98288462, 0.97304487, 0.97294872]), 'std_train_score': array([0.00102864, 0.00046887, 0.00077588, 0.00064899, 0.00081084,\n",
      "       0.00076252, 0.00056795, 0.00042279, 0.00034221, 0.00025641])}\n",
      "Best parameter (CV score=0.982):\n"
     ]
    },
    {
     "data": {
      "text/plain": [
       "{'lda__shrinkage': 0.01, 'lda__solver': 'eigen'}"
      ]
     },
     "execution_count": 45,
     "metadata": {},
     "output_type": "execute_result"
    }
   ],
   "source": [
    "lda_param_selection(X_all_train, y_all_train, 5)"
   ]
  },
  {
   "cell_type": "markdown",
   "metadata": {},
   "source": [
    "# Predictions generation"
   ]
  },
  {
   "cell_type": "code",
   "execution_count": 5,
   "metadata": {
    "collapsed": true
   },
   "outputs": [],
   "source": [
    "def generate_predictions_file(estimator, test_df, filename):\n",
    "    test_df = test_df.copy()\n",
    "    y_pred = estimator.predict(test_df)\n",
    "    test_df['categories'] = pd.Series(y_pred, index=test_df.index)\n",
    "    submission = test_df[['id','categories']]\n",
    "    submission.to_csv(filename + '.csv', index=False)"
   ]
  },
  {
   "cell_type": "markdown",
   "metadata": {},
   "source": [
    "### KNN"
   ]
  },
  {
   "cell_type": "code",
   "execution_count": 80,
   "metadata": {
    "collapsed": true
   },
   "outputs": [],
   "source": [
    "estimators = []\n",
    "estimators.append(('standardize', preprocessing.StandardScaler()))\n",
    "estimators.append(('pca', PCA(n_components = 20)))\n",
    "estimators.append(('knn', KNeighborsClassifier(n_neighbors=25)))\n",
    "model_knn = Pipeline(estimators)"
   ]
  },
  {
   "cell_type": "code",
   "execution_count": 81,
   "metadata": {},
   "outputs": [
    {
     "data": {
      "text/plain": [
       "Pipeline(memory=None,\n",
       "     steps=[('standardize', StandardScaler(copy=True, with_mean=True, with_std=True)), ('pca', PCA(copy=True, iterated_power='auto', n_components=20, random_state=None,\n",
       "  svd_solver='auto', tol=0.0, whiten=False)), ('knn', KNeighborsClassifier(algorithm='auto', leaf_size=30, metric='minkowski',\n",
       "           metric_params=None, n_jobs=None, n_neighbors=25, p=2,\n",
       "           weights='uniform'))])"
      ]
     },
     "execution_count": 81,
     "metadata": {},
     "output_type": "execute_result"
    }
   ],
   "source": [
    "model_knn.fit(X_all_train, y_all_train)"
   ]
  },
  {
   "cell_type": "code",
   "execution_count": 82,
   "metadata": {
    "collapsed": true
   },
   "outputs": [],
   "source": [
    "generate_predictions_file(model_knn, test_df, 'knn_pca_20_k_25')"
   ]
  },
  {
   "cell_type": "markdown",
   "metadata": {},
   "source": [
    "### SVC"
   ]
  },
  {
   "cell_type": "code",
   "execution_count": 61,
   "metadata": {
    "collapsed": true
   },
   "outputs": [],
   "source": [
    "estimators = []\n",
    "estimators.append(('standardize', preprocessing.StandardScaler()))\n",
    "estimators.append(('pca', PCA(n_components = 2500)))\n",
    "estimators.append(('svm', SVC(C=10, gamma=0.0001, kernel='rbf')))\n",
    "model_svc = Pipeline(estimators)"
   ]
  },
  {
   "cell_type": "code",
   "execution_count": 62,
   "metadata": {},
   "outputs": [
    {
     "data": {
      "text/plain": [
       "Pipeline(memory=None,\n",
       "     steps=[('standardize', StandardScaler(copy=True, with_mean=True, with_std=True)), ('svm', SVC(C=10, cache_size=200, class_weight=None, coef0=0.0,\n",
       "  decision_function_shape='ovr', degree=3, gamma=0.0001, kernel='rbf',\n",
       "  max_iter=-1, probability=False, random_state=None, shrinking=True,\n",
       "  tol=0.001, verbose=False))])"
      ]
     },
     "execution_count": 62,
     "metadata": {},
     "output_type": "execute_result"
    }
   ],
   "source": [
    "model_svc.fit(X_all_train, y_all_train)"
   ]
  },
  {
   "cell_type": "code",
   "execution_count": 63,
   "metadata": {
    "collapsed": true
   },
   "outputs": [],
   "source": [
    "generate_predictions_file(model_svc, test_df, 'svc_rbf_C_10_gamma_0001')"
   ]
  },
  {
   "cell_type": "markdown",
   "metadata": {},
   "source": [
    "#### Linear SVC"
   ]
  },
  {
   "cell_type": "code",
   "execution_count": 69,
   "metadata": {
    "collapsed": true
   },
   "outputs": [],
   "source": [
    "# {'svm__C': 0.001, 'svm__penalty': 'l2'}\n",
    "estimators = []\n",
    "estimators.append(('standardize', preprocessing.StandardScaler()))\n",
    "estimators.append(('pca', PCA(n_components = 2500)))\n",
    "estimators.append(('svm', LinearSVC(C=0.001, penalty='l2')))\n",
    "model_linear_svc = Pipeline(estimators)"
   ]
  },
  {
   "cell_type": "code",
   "execution_count": 70,
   "metadata": {},
   "outputs": [
    {
     "data": {
      "text/plain": [
       "Pipeline(memory=None,\n",
       "     steps=[('standardize', StandardScaler(copy=True, with_mean=True, with_std=True)), ('pca', PCA(copy=True, iterated_power='auto', n_components=2500, random_state=None,\n",
       "  svd_solver='auto', tol=0.0, whiten=False)), ('svm', LinearSVC(C=0.001, class_weight=None, dual=True, fit_intercept=True,\n",
       "     intercept_scaling=1, loss='squared_hinge', max_iter=1000,\n",
       "     multi_class='ovr', penalty='l2', random_state=None, tol=0.0001,\n",
       "     verbose=0))])"
      ]
     },
     "execution_count": 70,
     "metadata": {},
     "output_type": "execute_result"
    }
   ],
   "source": [
    "model_linear_svc.fit(X_all_train, y_all_train)"
   ]
  },
  {
   "cell_type": "code",
   "execution_count": 71,
   "metadata": {
    "collapsed": true
   },
   "outputs": [],
   "source": [
    "generate_predictions_file(model_linear_svc, test_df, 'svc_linear_C_0_001_l2_penalty_pca_2500')"
   ]
  },
  {
   "cell_type": "markdown",
   "metadata": {
    "collapsed": true
   },
   "source": [
    "### Log regression"
   ]
  },
  {
   "cell_type": "code",
   "execution_count": 29,
   "metadata": {
    "collapsed": true
   },
   "outputs": [],
   "source": [
    "estimators = []\n",
    "estimators.append(('standardize', preprocessing.StandardScaler()))\n",
    "estimators.append(('pca', PCA(n_components = 1100)))\n",
    "estimators.append(('logreg',LogisticRegression(penalty='l2', C=0.01, solver='saga', max_iter=3000, n_jobs=-1)))\n",
    "model_log = Pipeline(estimators)"
   ]
  },
  {
   "cell_type": "code",
   "execution_count": 30,
   "metadata": {},
   "outputs": [
    {
     "name": "stderr",
     "output_type": "stream",
     "text": [
      "/Users/sdoneva/anaconda/lib/python3.6/site-packages/sklearn/linear_model/logistic.py:460: FutureWarning: Default multi_class will be changed to 'auto' in 0.22. Specify the multi_class option to silence this warning.\n",
      "  \"this warning.\", FutureWarning)\n"
     ]
    },
    {
     "data": {
      "text/plain": [
       "Pipeline(memory=None,\n",
       "     steps=[('standardize', StandardScaler(copy=True, with_mean=True, with_std=True)), ('pca', PCA(copy=True, iterated_power='auto', n_components=1100, random_state=None,\n",
       "  svd_solver='auto', tol=0.0, whiten=False)), ('logreg', LogisticRegression(C=0.01, class_weight=None, dual=False, fit_intercept=True,\n",
       "          intercept_scaling=1, max_iter=3000, multi_class='warn',\n",
       "          n_jobs=-1, penalty='l2', random_state=None, solver='saga',\n",
       "          tol=0.0001, verbose=0, warm_start=False))])"
      ]
     },
     "execution_count": 30,
     "metadata": {},
     "output_type": "execute_result"
    }
   ],
   "source": [
    "model_log.fit(X_all_train, y_all_train)"
   ]
  },
  {
   "cell_type": "code",
   "execution_count": 31,
   "metadata": {
    "collapsed": true
   },
   "outputs": [],
   "source": [
    "generate_predictions_file(model_log, test_df, 'lod_reg_saga_pca_1100_C_0_01')"
   ]
  },
  {
   "cell_type": "markdown",
   "metadata": {},
   "source": [
    "### LDA"
   ]
  },
  {
   "cell_type": "code",
   "execution_count": 46,
   "metadata": {
    "collapsed": true
   },
   "outputs": [],
   "source": [
    "estimators = []\n",
    "estimators.append(('standardize', preprocessing.StandardScaler()))\n",
    "estimators.append(('pca', PCA(n_components = 280)))\n",
    "estimators.append(('lda', LinearDiscriminantAnalysis(solver='eigen', shrinkage = 0.01)))\n",
    "model_lda = Pipeline(estimators)"
   ]
  },
  {
   "cell_type": "code",
   "execution_count": 48,
   "metadata": {},
   "outputs": [
    {
     "data": {
      "text/plain": [
       "Pipeline(memory=None,\n",
       "     steps=[('standardize', StandardScaler(copy=True, with_mean=True, with_std=True)), ('pca', PCA(copy=True, iterated_power='auto', n_components=280, random_state=None,\n",
       "  svd_solver='auto', tol=0.0, whiten=False)), ('lda', LinearDiscriminantAnalysis(n_components=None, priors=None, shrinkage=0.01,\n",
       "              solver='eigen', store_covariance=False, tol=0.0001))])"
      ]
     },
     "execution_count": 48,
     "metadata": {},
     "output_type": "execute_result"
    }
   ],
   "source": [
    "model_lda.fit(X_all_train, y_all_train)"
   ]
  },
  {
   "cell_type": "code",
   "execution_count": 50,
   "metadata": {
    "collapsed": true
   },
   "outputs": [],
   "source": [
    "generate_predictions_file(model_lda, test_df, 'lda_eigen_pca_280_shrinkage_0_01')"
   ]
  },
  {
   "cell_type": "code",
   "execution_count": null,
   "metadata": {
    "collapsed": true
   },
   "outputs": [],
   "source": []
  }
 ],
 "metadata": {
  "kernelspec": {
   "display_name": "Python 3",
   "language": "python",
   "name": "python3"
  },
  "language_info": {
   "codemirror_mode": {
    "name": "ipython",
    "version": 3
   },
   "file_extension": ".py",
   "mimetype": "text/x-python",
   "name": "python",
   "nbconvert_exporter": "python",
   "pygments_lexer": "ipython3",
   "version": "3.6.3"
  }
 },
 "nbformat": 4,
 "nbformat_minor": 2
}
