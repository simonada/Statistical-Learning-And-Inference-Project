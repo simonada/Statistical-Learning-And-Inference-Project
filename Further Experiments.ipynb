{
 "cells": [
  {
   "cell_type": "code",
   "execution_count": 22,
   "metadata": {
    "collapsed": true
   },
   "outputs": [],
   "source": [
    "import pandas as pd\n",
    "from sklearn import feature_selection\n",
    "from sklearn import preprocessing\n",
    "from sklearn.model_selection import StratifiedKFold\n",
    "from sklearn.pipeline import Pipeline\n",
    "from sklearn.linear_model import LogisticRegression\n",
    "from sklearn.decomposition import PCA\n",
    "from sklearn import metrics\n",
    "from sklearn.model_selection import train_test_split\n",
    "from sklearn.preprocessing import StandardScaler\n",
    "import numpy as np\n",
    "import time\n",
    "import matplotlib.pyplot as plt\n",
    "from sklearn.discriminant_analysis import LinearDiscriminantAnalysis\n",
    "from sklearn.model_selection import GridSearchCV\n",
    "from sklearn.svm import SVC\n",
    "from sklearn.feature_selection import RFECV\n",
    "from sklearn.discriminant_analysis import QuadraticDiscriminantAnalysis\n",
    "from sklearn.svm import LinearSVC"
   ]
  },
  {
   "cell_type": "code",
   "execution_count": 42,
   "metadata": {
    "collapsed": true
   },
   "outputs": [],
   "source": [
    "from sklearn.exceptions import DataConversionWarning\n",
    "import warnings\n",
    "warnings.filterwarnings(action='ignore', category=DataConversionWarning)"
   ]
  },
  {
   "cell_type": "code",
   "execution_count": 31,
   "metadata": {},
   "outputs": [
    {
     "name": "stdout",
     "output_type": "stream",
     "text": [
      "Accuracy on test set: 0.44\n"
     ]
    }
   ],
   "source": [
    "train_df = pd.read_csv(\"train.csv\")\n",
    "test_df = pd.read_csv('test.csv')\n",
    "X_all_train = train_df.loc[:, train_df.columns != 'categories']\n",
    "y_all_train = train_df.loc[:, train_df.columns == 'categories']\n",
    "y_all_train = y_all_train.categories"
   ]
  },
  {
   "cell_type": "markdown",
   "metadata": {},
   "source": [
    "### PCA+LDA for dim reduction"
   ]
  },
  {
   "cell_type": "code",
   "execution_count": 32,
   "metadata": {
    "collapsed": true
   },
   "outputs": [],
   "source": [
    "estimators = []\n",
    "estimators.append(('standardize', preprocessing.StandardScaler()))\n",
    "estimators.append(('pca', PCA(n_components = 280)))\n",
    "estimators.append(('lda', LinearDiscriminantAnalysis(n_components = 11, solver='eigen', shrinkage = 0.01)))\n",
    "model_lda = Pipeline(estimators)"
   ]
  },
  {
   "cell_type": "code",
   "execution_count": 35,
   "metadata": {},
   "outputs": [
    {
     "name": "stderr",
     "output_type": "stream",
     "text": [
      "/Users/sdoneva/anaconda/lib/python3.6/site-packages/sklearn/preprocessing/data.py:625: DataConversionWarning: Data with input dtype int64, float64 were all converted to float64 by StandardScaler.\n",
      "  return self.partial_fit(X, y)\n",
      "/Users/sdoneva/anaconda/lib/python3.6/site-packages/sklearn/base.py:465: DataConversionWarning: Data with input dtype int64, float64 were all converted to float64 by StandardScaler.\n",
      "  return self.fit(X, y, **fit_params).transform(X)\n"
     ]
    },
    {
     "data": {
      "text/plain": [
       "Pipeline(memory=None,\n",
       "     steps=[('standardize', StandardScaler(copy=True, with_mean=True, with_std=True)), ('pca', PCA(copy=True, iterated_power='auto', n_components=280, random_state=None,\n",
       "  svd_solver='auto', tol=0.0, whiten=False)), ('lda', LinearDiscriminantAnalysis(n_components=11, priors=None, shrinkage=0.01,\n",
       "              solver='eigen', store_covariance=False, tol=0.0001))])"
      ]
     },
     "execution_count": 35,
     "metadata": {},
     "output_type": "execute_result"
    }
   ],
   "source": [
    "model_lda.fit(X_all_train, y_all_train)\n"
   ]
  },
  {
   "cell_type": "code",
   "execution_count": 36,
   "metadata": {
    "collapsed": true
   },
   "outputs": [],
   "source": [
    "def generate_predictions_file(estimator, test_df, filename):\n",
    "    test_df = test_df.copy()\n",
    "    y_pred = estimator.predict(test_df)\n",
    "    test_df['categories'] = pd.Series(y_pred, index=test_df.index)\n",
    "    submission = test_df[['id','categories']]\n",
    "    submission.to_csv(filename + '.csv', index=False)"
   ]
  },
  {
   "cell_type": "code",
   "execution_count": 37,
   "metadata": {},
   "outputs": [
    {
     "name": "stderr",
     "output_type": "stream",
     "text": [
      "/Users/sdoneva/anaconda/lib/python3.6/site-packages/sklearn/pipeline.py:331: DataConversionWarning: Data with input dtype int64, float64 were all converted to float64 by StandardScaler.\n",
      "  Xt = transform.transform(Xt)\n"
     ]
    }
   ],
   "source": [
    "generate_predictions_file(model_lda, test_df, 'lda_proj_11_eigen_pca_280_shrinkage_0_01')"
   ]
  },
  {
   "cell_type": "markdown",
   "metadata": {},
   "source": [
    "### QDA"
   ]
  },
  {
   "cell_type": "code",
   "execution_count": 40,
   "metadata": {
    "collapsed": true
   },
   "outputs": [],
   "source": [
    "def qda_param_selection(X, y, nfolds):\n",
    "    param_grid = {'qda__reg_param': [0.0, 0.01, 0.1, 0.5, 1]}\n",
    "    qda_clf = QuadraticDiscriminantAnalysis()\n",
    "    \n",
    "    estimators = []\n",
    "    \n",
    "    estimators.append(('standardize', preprocessing.StandardScaler()))\n",
    "    estimators.append(('pca', PCA(n_components = 280)) )\n",
    "    estimators.append(('qda', qda_clf))\n",
    "    model = Pipeline(estimators)\n",
    "    \n",
    "    grid_search = GridSearchCV(model, param_grid, cv=nfolds)\n",
    "    grid_search.fit(X, y)\n",
    "    grid_search.best_params_\n",
    "    print(grid_search.cv_results_)\n",
    "    print(\"Best parameter (CV score=%0.3f):\" % grid_search.best_score_)\n",
    "    \n",
    "    return grid_search.best_params_"
   ]
  },
  {
   "cell_type": "code",
   "execution_count": 43,
   "metadata": {},
   "outputs": [
    {
     "name": "stdout",
     "output_type": "stream",
     "text": [
      "{'mean_fit_time': array([11.90819025, 12.64620357, 12.60361042, 12.60761228, 11.2559453 ]), 'std_fit_time': array([0.4299788 , 0.5136865 , 0.78349362, 0.23168439, 0.131557  ]), 'mean_score_time': array([0.51916585, 0.46931939, 0.48046751, 0.46335149, 0.46344347]), 'std_score_time': array([0.10122088, 0.02472834, 0.03569394, 0.02411291, 0.04318073]), 'param_qda__reg_param': masked_array(data=[0.0, 0.01, 0.1, 0.5, 1],\n",
      "             mask=[False, False, False, False, False],\n",
      "       fill_value='?',\n",
      "            dtype=object), 'params': [{'qda__reg_param': 0.0}, {'qda__reg_param': 0.01}, {'qda__reg_param': 0.1}, {'qda__reg_param': 0.5}, {'qda__reg_param': 1}], 'split0_test_score': array([0.97307692, 0.9775641 , 0.98205128, 0.98269231, 0.975     ]), 'split1_test_score': array([0.96794872, 0.96987179, 0.96987179, 0.9724359 , 0.96282051]), 'split2_test_score': array([0.96602564, 0.97179487, 0.97628205, 0.97948718, 0.97115385]), 'split3_test_score': array([0.975     , 0.97692308, 0.98141026, 0.98461538, 0.96923077]), 'split4_test_score': array([0.96923077, 0.97307692, 0.98012821, 0.98461538, 0.9775641 ]), 'mean_test_score': array([0.97025641, 0.97384615, 0.97794872, 0.98076923, 0.97115385]), 'std_test_score': array([0.00330859, 0.00296262, 0.00450728, 0.00456885, 0.0050799 ]), 'rank_test_score': array([5, 3, 2, 1, 4], dtype=int32), 'split0_train_score': array([0.99967949, 0.99951923, 0.99887821, 0.99775641, 0.97339744]), 'split1_train_score': array([0.99983974, 0.99983974, 0.99935897, 0.99807692, 0.97259615]), 'split2_train_score': array([0.99983974, 0.99951923, 0.99903846, 0.99695513, 0.97259615]), 'split3_train_score': array([0.99951923, 0.99951923, 0.99887821, 0.99727564, 0.97291667]), 'split4_train_score': array([0.99951923, 0.99951923, 0.99887821, 0.9974359 , 0.97275641]), 'mean_train_score': array([0.99967949, 0.99958333, 0.99900641, 0.9975    , 0.97285256]), 'std_train_score': array([0.00014334, 0.00012821, 0.00018689, 0.00038728, 0.00029723])}\n",
      "Best parameter (CV score=0.981):\n"
     ]
    },
    {
     "data": {
      "text/plain": [
       "{'qda__reg_param': 0.5}"
      ]
     },
     "execution_count": 43,
     "metadata": {},
     "output_type": "execute_result"
    }
   ],
   "source": [
    "qda_param_selection(X_all_train, y_all_train, 5)"
   ]
  },
  {
   "cell_type": "code",
   "execution_count": 44,
   "metadata": {
    "collapsed": true
   },
   "outputs": [],
   "source": [
    "estimators = []\n",
    "estimators.append(('standardize', preprocessing.StandardScaler()))\n",
    "estimators.append(('pca', PCA(n_components = 280)))\n",
    "estimators.append(('qda', QuadraticDiscriminantAnalysis(reg_param = 0.5)))\n",
    "model_qda = Pipeline(estimators)"
   ]
  },
  {
   "cell_type": "code",
   "execution_count": 45,
   "metadata": {},
   "outputs": [
    {
     "data": {
      "text/plain": [
       "Pipeline(memory=None,\n",
       "     steps=[('standardize', StandardScaler(copy=True, with_mean=True, with_std=True)), ('pca', PCA(copy=True, iterated_power='auto', n_components=280, random_state=None,\n",
       "  svd_solver='auto', tol=0.0, whiten=False)), ('qda', QuadraticDiscriminantAnalysis(priors=None, reg_param=0.5,\n",
       "               store_covariance=False, store_covariances=None, tol=0.0001))])"
      ]
     },
     "execution_count": 45,
     "metadata": {},
     "output_type": "execute_result"
    }
   ],
   "source": [
    "model_qda.fit(X_all_train, y_all_train)\n"
   ]
  },
  {
   "cell_type": "code",
   "execution_count": 46,
   "metadata": {
    "collapsed": true
   },
   "outputs": [],
   "source": [
    "generate_predictions_file(model_qda, test_df, 'qda_pca_280_regularization_0_5')"
   ]
  },
  {
   "cell_type": "code",
   "execution_count": null,
   "metadata": {
    "collapsed": true
   },
   "outputs": [],
   "source": []
  }
 ],
 "metadata": {
  "kernelspec": {
   "display_name": "Python 3",
   "language": "python",
   "name": "python3"
  },
  "language_info": {
   "codemirror_mode": {
    "name": "ipython",
    "version": 3
   },
   "file_extension": ".py",
   "mimetype": "text/x-python",
   "name": "python",
   "nbconvert_exporter": "python",
   "pygments_lexer": "ipython3",
   "version": "3.6.3"
  }
 },
 "nbformat": 4,
 "nbformat_minor": 2
}
