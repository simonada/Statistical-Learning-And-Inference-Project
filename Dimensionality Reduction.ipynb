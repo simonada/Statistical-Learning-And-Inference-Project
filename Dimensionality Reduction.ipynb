{
 "cells": [
  {
   "cell_type": "markdown",
   "metadata": {},
   "source": [
    "Idea: Use PCA to reduce the data set dimensions\n",
    "- first estimate appropriate range for the nr of components\n",
    "- then determine the final nr of components using cross validation\n",
    "- the same logic is applied for each model type, i.e. LR, LDA and SVM"
   ]
  },
  {
   "cell_type": "code",
   "execution_count": 1,
   "metadata": {
    "collapsed": true
   },
   "outputs": [],
   "source": [
    "import pandas as pd\n",
    "from sklearn import feature_selection\n",
    "from sklearn import preprocessing\n",
    "from sklearn.model_selection import StratifiedKFold\n",
    "from sklearn.pipeline import Pipeline\n",
    "from sklearn.linear_model import LogisticRegression\n",
    "from sklearn.decomposition import PCA\n",
    "from sklearn import metrics\n",
    "from sklearn.model_selection import train_test_split\n",
    "from sklearn.preprocessing import StandardScaler\n",
    "import numpy as np\n",
    "import time\n",
    "import matplotlib.pyplot as plt\n",
    "from sklearn.discriminant_analysis import LinearDiscriminantAnalysis\n",
    "from sklearn.model_selection import GridSearchCV\n",
    "from sklearn.svm import SVC\n",
    "from sklearn.feature_selection import RFECV\n",
    "from sklearn.discriminant_analysis import QuadraticDiscriminantAnalysis\n",
    "from sklearn.neighbors import KNeighborsClassifier\n",
    "from sklearn.exceptions import DataConversionWarning\n",
    "import warnings\n",
    "warnings.filterwarnings(action='ignore', category=DataConversionWarning)"
   ]
  },
  {
   "cell_type": "code",
   "execution_count": 2,
   "metadata": {
    "collapsed": true
   },
   "outputs": [],
   "source": [
    "train_df = pd.read_csv(\"train.csv\")\n",
    "test_df = pd.read_csv('test.csv')"
   ]
  },
  {
   "cell_type": "code",
   "execution_count": 3,
   "metadata": {
    "collapsed": true
   },
   "outputs": [],
   "source": [
    "X_all_train = train_df.loc[:, train_df.columns != 'categories']\n",
    "y_all_train = train_df.loc[:, train_df.columns == 'categories']"
   ]
  },
  {
   "cell_type": "markdown",
   "metadata": {},
   "source": [
    "Note: Since the files could not be uploaded due to the size and the split procedure is random, the exact\n",
    "results reported in the report might be slightly different."
   ]
  },
  {
   "cell_type": "code",
   "execution_count": null,
   "metadata": {
    "collapsed": true
   },
   "outputs": [],
   "source": [
    "# done once! the files to obtain the same results are provided in the submission\n",
    "X_train, X_test, y_train, y_test = train_test_split(X_all_train, y_all_train, test_size=0.25, random_state=0)\n",
    "# # Save to files in order to work with the same datasets!\n",
    "X_train.to_csv('x_train.csv', index=False)\n",
    "X_test.to_csv('x_test.csv', index=False)\n",
    "y_train.to_csv('y_train.csv', index=False)\n",
    "y_test.to_csv('y_test.csv', index=False)"
   ]
  },
  {
   "cell_type": "code",
   "execution_count": 4,
   "metadata": {
    "collapsed": true
   },
   "outputs": [],
   "source": [
    "X_train = pd.read_csv(\"x_train.csv\")\n",
    "X_test = pd.read_csv(\"x_test.csv\")\n",
    "y_train = pd.read_csv(\"y_train.csv\")\n",
    "y_test = pd.read_csv(\"y_test.csv\")"
   ]
  },
  {
   "cell_type": "code",
   "execution_count": 5,
   "metadata": {
    "collapsed": true
   },
   "outputs": [],
   "source": [
    "y_train = y_train.categories\n",
    "y_test = y_test.categories\n"
   ]
  },
  {
   "cell_type": "code",
   "execution_count": 6,
   "metadata": {
    "collapsed": true
   },
   "outputs": [],
   "source": [
    "y_all_train = y_all_train.categories"
   ]
  },
  {
   "cell_type": "code",
   "execution_count": 7,
   "metadata": {
    "collapsed": true
   },
   "outputs": [],
   "source": [
    "X_train = pd.read_csv(\"x_train.csv\")\n",
    "X_test = pd.read_csv(\"x_test.csv\")\n",
    "y_train = pd.read_csv(\"y_train.csv\")\n",
    "y_test = pd.read_csv(\"y_test.csv\")"
   ]
  },
  {
   "cell_type": "markdown",
   "metadata": {},
   "source": [
    "# Data preparation"
   ]
  },
  {
   "cell_type": "code",
   "execution_count": 14,
   "metadata": {
    "collapsed": true
   },
   "outputs": [],
   "source": [
    "scaler = StandardScaler()\n",
    "\n",
    "# Fit on training set only.\n",
    "scaler.fit(X_all_train)\n",
    "\n",
    "# Apply transform to both the training set and the test set.\n",
    "train_std = scaler.transform(X_train)\n",
    "test_std = scaler.transform(X_test)"
   ]
  },
  {
   "cell_type": "markdown",
   "metadata": {},
   "source": [
    "# PCA benchmarks "
   ]
  },
  {
   "cell_type": "code",
   "execution_count": 9,
   "metadata": {
    "collapsed": true
   },
   "outputs": [],
   "source": [
    "benchmark_cols = ['Variance retained','n_Components','Time(s)','Accuracy_percentage']\n",
    "\n",
    "def benchmark_pca(model, benchmark, variance, train_set, train_y, test_set, test_y):\n",
    "    #global benchmark\n",
    "    print('Variance to obtain', variance)\n",
    "    pca = PCA(variance)\n",
    "    pca.fit(train_set)\n",
    "    n_components = pca.n_components_\n",
    "    print('Retained components', n_components)\n",
    "    train_set = pca.transform(train_set)\n",
    "\n",
    "    # pca.fit(test_set)\n",
    "    test_set = pca.transform(test_set)\n",
    "    start = time.time()\n",
    "    model.fit(train_set, train_y)\n",
    "    end =  time.time()\n",
    " \n",
    "    timing = end-start   \n",
    "\n",
    "    # Predict for Multiple Observations (images) at Once\n",
    "    predicted = model.predict(test_set)   \n",
    "\n",
    "    # generate evaluation metrics\n",
    "    accuracy = (metrics.accuracy_score(test_y, predicted))\n",
    "    #return \n",
    "    a = dict(zip(benchmark_cols,[variance,n_components,timing,accuracy]))\n",
    "    benchmark = benchmark.append(a,ignore_index=True)\n",
    "    return benchmark"
   ]
  },
  {
   "cell_type": "code",
   "execution_count": 10,
   "metadata": {
    "collapsed": true
   },
   "outputs": [],
   "source": [
    "def benchmark_pca_variance(model, train_std, y_train, test_std, y_test):\n",
    "    variance_list = [0.95,0.90,0.85,0.80,0.75,0.70,0.6]\n",
    "    benchmark = pd.DataFrame(columns = benchmark_cols)\n",
    "    for variance in variance_list:\n",
    "        benchmark = benchmark_pca(model, benchmark, variance, train_std, y_train, test_std, y_test)\n",
    "    print('Final benchmark results:')\n",
    "    print(benchmark)\n",
    "    return benchmark\n",
    "    "
   ]
  },
  {
   "cell_type": "code",
   "execution_count": 11,
   "metadata": {
    "collapsed": true
   },
   "outputs": [],
   "source": [
    "def visualise_benchmark(benchmark, model_name):\n",
    "    #1\n",
    "    benchmark.plot(x=0,y=-1)\n",
    "    plt.title(\"variance vs accuracy\")\n",
    "    plt.savefig('var_acc_'+model_name+'.png')\n",
    "    plt.gcf().clear()\n",
    "    #2\n",
    "    benchmark.plot(x=1,y=-1)\n",
    "    plt.title(\"no of components vs accuracy\")\n",
    "    plt.savefig('comp_acc_'+model_name+'.png')\n",
    "    plt.gcf().clear()\n",
    "    #3\n",
    "    benchmark.plot(x=2,y=-1)\n",
    "    plt.savefig('time_acc_'+model_name+'.png')\n",
    "    plt.title(\"time vs accuracy\")\n",
    "    plt.gcf().clear()"
   ]
  },
  {
   "cell_type": "markdown",
   "metadata": {},
   "source": [
    "### KNN"
   ]
  },
  {
   "cell_type": "code",
   "execution_count": 105,
   "metadata": {
    "collapsed": true
   },
   "outputs": [],
   "source": [
    "knn = KNeighborsClassifier()"
   ]
  },
  {
   "cell_type": "code",
   "execution_count": 106,
   "metadata": {},
   "outputs": [
    {
     "name": "stdout",
     "output_type": "stream",
     "text": [
      "Variance to obtain 0.95\n",
      "Retained components 1553\n"
     ]
    },
    {
     "name": "stderr",
     "output_type": "stream",
     "text": [
      "/Users/sdoneva/anaconda/lib/python3.6/site-packages/ipykernel_launcher.py:15: DataConversionWarning: A column-vector y was passed when a 1d array was expected. Please change the shape of y to (n_samples, ), for example using ravel().\n",
      "  from ipykernel import kernelapp as app\n"
     ]
    },
    {
     "name": "stdout",
     "output_type": "stream",
     "text": [
      "Variance to obtain 0.9\n",
      "Retained components 985\n"
     ]
    },
    {
     "name": "stderr",
     "output_type": "stream",
     "text": [
      "/Users/sdoneva/anaconda/lib/python3.6/site-packages/ipykernel_launcher.py:15: DataConversionWarning: A column-vector y was passed when a 1d array was expected. Please change the shape of y to (n_samples, ), for example using ravel().\n",
      "  from ipykernel import kernelapp as app\n"
     ]
    },
    {
     "name": "stdout",
     "output_type": "stream",
     "text": [
      "Variance to obtain 0.85\n",
      "Retained components 661\n"
     ]
    },
    {
     "name": "stderr",
     "output_type": "stream",
     "text": [
      "/Users/sdoneva/anaconda/lib/python3.6/site-packages/ipykernel_launcher.py:15: DataConversionWarning: A column-vector y was passed when a 1d array was expected. Please change the shape of y to (n_samples, ), for example using ravel().\n",
      "  from ipykernel import kernelapp as app\n"
     ]
    },
    {
     "name": "stdout",
     "output_type": "stream",
     "text": [
      "Variance to obtain 0.8\n",
      "Retained components 449\n"
     ]
    },
    {
     "name": "stderr",
     "output_type": "stream",
     "text": [
      "/Users/sdoneva/anaconda/lib/python3.6/site-packages/ipykernel_launcher.py:15: DataConversionWarning: A column-vector y was passed when a 1d array was expected. Please change the shape of y to (n_samples, ), for example using ravel().\n",
      "  from ipykernel import kernelapp as app\n"
     ]
    },
    {
     "name": "stdout",
     "output_type": "stream",
     "text": [
      "Variance to obtain 0.75\n",
      "Retained components 305\n"
     ]
    },
    {
     "name": "stderr",
     "output_type": "stream",
     "text": [
      "/Users/sdoneva/anaconda/lib/python3.6/site-packages/ipykernel_launcher.py:15: DataConversionWarning: A column-vector y was passed when a 1d array was expected. Please change the shape of y to (n_samples, ), for example using ravel().\n",
      "  from ipykernel import kernelapp as app\n"
     ]
    },
    {
     "name": "stdout",
     "output_type": "stream",
     "text": [
      "Variance to obtain 0.7\n",
      "Retained components 207\n"
     ]
    },
    {
     "name": "stderr",
     "output_type": "stream",
     "text": [
      "/Users/sdoneva/anaconda/lib/python3.6/site-packages/ipykernel_launcher.py:15: DataConversionWarning: A column-vector y was passed when a 1d array was expected. Please change the shape of y to (n_samples, ), for example using ravel().\n",
      "  from ipykernel import kernelapp as app\n"
     ]
    },
    {
     "name": "stdout",
     "output_type": "stream",
     "text": [
      "Variance to obtain 0.6\n",
      "Retained components 95\n"
     ]
    },
    {
     "name": "stderr",
     "output_type": "stream",
     "text": [
      "/Users/sdoneva/anaconda/lib/python3.6/site-packages/ipykernel_launcher.py:15: DataConversionWarning: A column-vector y was passed when a 1d array was expected. Please change the shape of y to (n_samples, ), for example using ravel().\n",
      "  from ipykernel import kernelapp as app\n"
     ]
    },
    {
     "name": "stdout",
     "output_type": "stream",
     "text": [
      "Final benchmark results:\n",
      "   Variance retained  n_Components   Time(s)  Accuracy_percentage\n",
      "0               0.95        1553.0  0.794998             0.970256\n",
      "1               0.90         985.0  0.351879             0.973333\n",
      "2               0.85         661.0  0.258870             0.974359\n",
      "3               0.80         449.0  0.161617             0.976410\n",
      "4               0.75         305.0  0.169390             0.976923\n",
      "5               0.70         207.0  0.064817             0.978462\n",
      "6               0.60          95.0  0.023734             0.982051\n"
     ]
    }
   ],
   "source": [
    "benchmark = benchmark_pca_variance(knn, train_std, y_train, test_std, y_test)"
   ]
  },
  {
   "cell_type": "code",
   "execution_count": 107,
   "metadata": {
    "collapsed": true
   },
   "outputs": [],
   "source": [
    "visualise_benchmark(benchmark, 'knn_pca')"
   ]
  },
  {
   "cell_type": "markdown",
   "metadata": {},
   "source": [
    "### Log Regression"
   ]
  },
  {
   "cell_type": "code",
   "execution_count": 29,
   "metadata": {
    "collapsed": true
   },
   "outputs": [],
   "source": [
    "clf_log_reg = LogisticRegression(penalty='l2',solver='saga', max_iter=3000, n_jobs=-1)"
   ]
  },
  {
   "cell_type": "code",
   "execution_count": 30,
   "metadata": {},
   "outputs": [
    {
     "name": "stdout",
     "output_type": "stream",
     "text": [
      "Variance to obtain 0.95\n",
      "Retained components 1553\n"
     ]
    },
    {
     "name": "stderr",
     "output_type": "stream",
     "text": [
      "/Users/sdoneva/anaconda/lib/python3.6/site-packages/sklearn/linear_model/logistic.py:460: FutureWarning: Default multi_class will be changed to 'auto' in 0.22. Specify the multi_class option to silence this warning.\n",
      "  \"this warning.\", FutureWarning)\n"
     ]
    },
    {
     "name": "stdout",
     "output_type": "stream",
     "text": [
      "Variance to obtain 0.9\n",
      "Retained components 985\n"
     ]
    },
    {
     "name": "stderr",
     "output_type": "stream",
     "text": [
      "/Users/sdoneva/anaconda/lib/python3.6/site-packages/sklearn/linear_model/logistic.py:460: FutureWarning: Default multi_class will be changed to 'auto' in 0.22. Specify the multi_class option to silence this warning.\n",
      "  \"this warning.\", FutureWarning)\n"
     ]
    },
    {
     "name": "stdout",
     "output_type": "stream",
     "text": [
      "Variance to obtain 0.85\n",
      "Retained components 661\n"
     ]
    },
    {
     "name": "stderr",
     "output_type": "stream",
     "text": [
      "/Users/sdoneva/anaconda/lib/python3.6/site-packages/sklearn/linear_model/logistic.py:460: FutureWarning: Default multi_class will be changed to 'auto' in 0.22. Specify the multi_class option to silence this warning.\n",
      "  \"this warning.\", FutureWarning)\n"
     ]
    },
    {
     "name": "stdout",
     "output_type": "stream",
     "text": [
      "Variance to obtain 0.8\n",
      "Retained components 449\n"
     ]
    },
    {
     "name": "stderr",
     "output_type": "stream",
     "text": [
      "/Users/sdoneva/anaconda/lib/python3.6/site-packages/sklearn/linear_model/logistic.py:460: FutureWarning: Default multi_class will be changed to 'auto' in 0.22. Specify the multi_class option to silence this warning.\n",
      "  \"this warning.\", FutureWarning)\n"
     ]
    },
    {
     "name": "stdout",
     "output_type": "stream",
     "text": [
      "Variance to obtain 0.75\n",
      "Retained components 305\n"
     ]
    },
    {
     "name": "stderr",
     "output_type": "stream",
     "text": [
      "/Users/sdoneva/anaconda/lib/python3.6/site-packages/sklearn/linear_model/logistic.py:460: FutureWarning: Default multi_class will be changed to 'auto' in 0.22. Specify the multi_class option to silence this warning.\n",
      "  \"this warning.\", FutureWarning)\n",
      "/Users/sdoneva/anaconda/lib/python3.6/site-packages/sklearn/linear_model/sag.py:334: ConvergenceWarning: The max_iter was reached which means the coef_ did not converge\n",
      "  \"the coef_ did not converge\", ConvergenceWarning)\n"
     ]
    },
    {
     "name": "stdout",
     "output_type": "stream",
     "text": [
      "Variance to obtain 0.7\n",
      "Retained components 207\n"
     ]
    },
    {
     "name": "stderr",
     "output_type": "stream",
     "text": [
      "/Users/sdoneva/anaconda/lib/python3.6/site-packages/sklearn/linear_model/logistic.py:460: FutureWarning: Default multi_class will be changed to 'auto' in 0.22. Specify the multi_class option to silence this warning.\n",
      "  \"this warning.\", FutureWarning)\n",
      "/Users/sdoneva/anaconda/lib/python3.6/site-packages/sklearn/linear_model/sag.py:334: ConvergenceWarning: The max_iter was reached which means the coef_ did not converge\n",
      "  \"the coef_ did not converge\", ConvergenceWarning)\n"
     ]
    },
    {
     "name": "stdout",
     "output_type": "stream",
     "text": [
      "Variance to obtain 0.6\n",
      "Retained components 95\n"
     ]
    },
    {
     "name": "stderr",
     "output_type": "stream",
     "text": [
      "/Users/sdoneva/anaconda/lib/python3.6/site-packages/sklearn/linear_model/logistic.py:460: FutureWarning: Default multi_class will be changed to 'auto' in 0.22. Specify the multi_class option to silence this warning.\n",
      "  \"this warning.\", FutureWarning)\n"
     ]
    },
    {
     "name": "stdout",
     "output_type": "stream",
     "text": [
      "Final benchmark results:\n",
      "   Variance retained  n_Components      Time(s)  Accuracy_percentage\n",
      "0               0.95        1553.0   598.392705             0.985641\n",
      "1               0.90         985.0   525.547376             0.987179\n",
      "2               0.85         661.0   819.847439             0.984103\n",
      "3               0.80         449.0   989.716344             0.982564\n",
      "4               0.75         305.0  1140.606550             0.980513\n",
      "5               0.70         207.0   852.639557             0.981538\n",
      "6               0.60          95.0  1313.463665             0.982051\n"
     ]
    }
   ],
   "source": [
    "benchmark = benchmark_pca_variance(clf_log_reg, train_std, y_train, test_std, y_test)"
   ]
  },
  {
   "cell_type": "code",
   "execution_count": 31,
   "metadata": {
    "collapsed": true
   },
   "outputs": [],
   "source": [
    "visualise_benchmark(benchmark, 'log_regression_pca')"
   ]
  },
  {
   "cell_type": "markdown",
   "metadata": {},
   "source": [
    "### LDA"
   ]
  },
  {
   "cell_type": "code",
   "execution_count": 14,
   "metadata": {
    "collapsed": true
   },
   "outputs": [],
   "source": [
    "clf_lda = LinearDiscriminantAnalysis() # TODO: use eigen"
   ]
  },
  {
   "cell_type": "code",
   "execution_count": 22,
   "metadata": {},
   "outputs": [
    {
     "name": "stdout",
     "output_type": "stream",
     "text": [
      "Variance to obtain 0.95\n",
      "Retained components 1553\n",
      "Variance to obtain 0.9\n",
      "Retained components 985\n",
      "Variance to obtain 0.85\n",
      "Retained components 661\n",
      "Variance to obtain 0.8\n",
      "Retained components 449\n",
      "Variance to obtain 0.75\n",
      "Retained components 305\n",
      "Variance to obtain 0.7\n",
      "Retained components 207\n",
      "Variance to obtain 0.6\n",
      "Retained components 95\n",
      "Final benchmark results:\n",
      "   Variance retained  n_Components    Time(s)  Accuracy_percentage\n",
      "0               0.95        1553.0  11.643113             0.982564\n",
      "1               0.90         985.0   5.741668             0.983077\n",
      "2               0.85         661.0   2.362174             0.983077\n",
      "3               0.80         449.0   1.211744             0.984103\n",
      "4               0.75         305.0   0.797763             0.984103\n",
      "5               0.70         207.0   0.446125             0.984103\n",
      "6               0.60          95.0   0.215611             0.984103\n"
     ]
    }
   ],
   "source": [
    "benchmark = benchmark_pca_variance(clf_lda, train_std, y_train, test_std, y_test)"
   ]
  },
  {
   "cell_type": "code",
   "execution_count": 23,
   "metadata": {
    "collapsed": true
   },
   "outputs": [],
   "source": [
    "visualise_benchmark(benchmark, 'lda_pca')"
   ]
  },
  {
   "cell_type": "markdown",
   "metadata": {},
   "source": [
    "### SVM"
   ]
  },
  {
   "cell_type": "code",
   "execution_count": 12,
   "metadata": {
    "collapsed": true
   },
   "outputs": [],
   "source": [
    "clf_svc = SVC(kernel='linear', C=1E10)"
   ]
  },
  {
   "cell_type": "code",
   "execution_count": 15,
   "metadata": {},
   "outputs": [
    {
     "name": "stdout",
     "output_type": "stream",
     "text": [
      "Variance to obtain 0.95\n",
      "Retained components 1553\n",
      "Variance to obtain 0.9\n",
      "Retained components 985\n",
      "Variance to obtain 0.85\n",
      "Retained components 660\n",
      "Variance to obtain 0.8\n",
      "Retained components 449\n",
      "Variance to obtain 0.75\n",
      "Retained components 305\n",
      "Variance to obtain 0.7\n",
      "Retained components 207\n",
      "Variance to obtain 0.6\n",
      "Retained components 95\n",
      "Final benchmark results:\n",
      "   Variance retained  n_Components   Time(s)  Accuracy_percentage\n",
      "0               0.95        1553.0  9.732868             0.985128\n",
      "1               0.90         985.0  5.759043             0.984103\n",
      "2               0.85         660.0  3.618488             0.985128\n",
      "3               0.80         449.0  2.214851             0.984103\n",
      "4               0.75         305.0  1.507022             0.982051\n",
      "5               0.70         207.0  0.859414             0.980513\n",
      "6               0.60          95.0  0.333904             0.976923\n"
     ]
    }
   ],
   "source": [
    "benchmark = benchmark_pca_variance(clf_svc, train_std, y_train, test_std, y_test)"
   ]
  },
  {
   "cell_type": "code",
   "execution_count": 16,
   "metadata": {
    "collapsed": true
   },
   "outputs": [],
   "source": [
    "visualise_benchmark(benchmark, 'svm_pca')"
   ]
  },
  {
   "cell_type": "markdown",
   "metadata": {},
   "source": [
    "# CV for final nr of components"
   ]
  },
  {
   "cell_type": "code",
   "execution_count": 115,
   "metadata": {
    "collapsed": true
   },
   "outputs": [],
   "source": [
    "def evaluate_pca_pipeline_cv(algorithm, pca_components_list, X_train, y_train, model_name):\n",
    "    # create pipeline\n",
    "    estimators = []\n",
    "    \n",
    "    estimators.append(('standardize', preprocessing.StandardScaler()))\n",
    "    estimators.append(('pca', PCA()))\n",
    "    estimators.append(('model', algorithm))\n",
    "    model = Pipeline(estimators)\n",
    "    \n",
    "    # evaluate pipeline\n",
    "    # Parameters of pipelines can be set using ‘__’ separated parameter names:\n",
    "    param_grid = {\n",
    "        'pca__n_components': pca_components_list}\n",
    "\n",
    "    search = GridSearchCV(model, param_grid, iid=False, cv=5,\n",
    "                          return_train_score=False)\n",
    "    search.fit(X_train, y_train)\n",
    "    print(\"Best parameter (CV score=%0.3f):\" % search.best_score_)\n",
    "    print(\"Best parameter\", search.best_params_)\n",
    "    print()\n",
    "    print(search.cv_results_)\n",
    "    \n",
    "    plot_grid_search(search.cv_results_, pca_components_list, 'knn_components_cv_results', model_name)"
   ]
  },
  {
   "cell_type": "code",
   "execution_count": 116,
   "metadata": {
    "collapsed": true
   },
   "outputs": [],
   "source": [
    "# see for multile grid params: https://stackoverflow.com/questions/37161563/how-to-graph-grid-scores-from-gridsearchcv\n",
    "# see for test/train plotting: https://chrisalbon.com/machine_learning/model_evaluation/plot_the_validation_curve/\n",
    "def plot_grid_search(cv_results, grid_params, filename, model_name):\n",
    "    # Get Test Scores Mean and std for each grid search\n",
    "    scores_mean = cv_results['mean_test_score']\n",
    "    scores_mean = np.array(scores_mean)\n",
    "    \n",
    "    plt.plot(grid_params, scores_mean, color='seagreen', marker='o')\n",
    "    plt.xlabel('PCA Components', fontsize=15)\n",
    "    plt.ylabel('5-fold CV Accuracy ', fontsize=15)\n",
    "    plt.title(model_name, fontsize=15)\n",
    "    ax = plt.gca()\n",
    "    ax.set_facecolor('white')\n",
    "    #ax.legend([''], fontsize=15)\n",
    "    plt.xticks(size = 10)\n",
    "    plt.yticks(size = 10)\n",
    "    max_score_indx = np.argmax(scores_mean)\n",
    "    plt.axvline(x=grid_params[max_score_indx], color='r', linestyle='--')\n",
    "    \n",
    "    plt.savefig(filename +'.png')\n",
    "    plt.show()\n",
    "    plt.gcf().clear()\n",
    "    \n",
    "# Calling Method \n",
    "# plot_grid_search(pipe_grid.cv_results_, n_estimators, max_features, 'N Estimators', 'Max Features')"
   ]
  },
  {
   "cell_type": "code",
   "execution_count": 114,
   "metadata": {
    "collapsed": true
   },
   "outputs": [],
   "source": [
    "from sklearn.exceptions import DataConversionWarning\n",
    "import warnings\n",
    "warnings.filterwarnings(action='ignore', category=DataConversionWarning)"
   ]
  },
  {
   "cell_type": "markdown",
   "metadata": {},
   "source": [
    "### KNN"
   ]
  },
  {
   "cell_type": "code",
   "execution_count": 119,
   "metadata": {},
   "outputs": [
    {
     "name": "stdout",
     "output_type": "stream",
     "text": [
      "Best parameter (CV score=0.981):\n",
      "Best parameter {'pca__n_components': 20}\n",
      "\n",
      "{'mean_fit_time': array([4.59340339, 4.73141918, 5.09474883, 5.78323431, 6.39812236,\n",
      "       6.72257519, 5.20663319]), 'std_fit_time': array([0.40276021, 0.12369605, 0.15855728, 0.07022356, 0.07596619,\n",
      "       1.55849621, 0.02936262]), 'mean_score_time': array([0.16480999, 0.28885136, 0.62048435, 1.09339714, 1.19968157,\n",
      "       1.46363726, 1.54093862]), 'std_score_time': array([0.02221898, 0.04915038, 0.14003689, 0.13186258, 0.07674126,\n",
      "       0.32914482, 0.04715137]), 'param_pca__n_components': masked_array(data=[5, 20, 40, 60, 80, 100, 120],\n",
      "             mask=[False, False, False, False, False, False, False],\n",
      "       fill_value='?',\n",
      "            dtype=object), 'params': [{'pca__n_components': 5}, {'pca__n_components': 20}, {'pca__n_components': 40}, {'pca__n_components': 60}, {'pca__n_components': 80}, {'pca__n_components': 100}, {'pca__n_components': 120}], 'split0_test_score': array([0.94358974, 0.98461538, 0.98525641, 0.98205128, 0.98141026,\n",
      "       0.98205128, 0.98141026]), 'split1_test_score': array([0.92884615, 0.97115385, 0.97115385, 0.96987179, 0.97307692,\n",
      "       0.97371795, 0.97179487]), 'split2_test_score': array([0.92179487, 0.98205128, 0.9775641 , 0.98012821, 0.97820513,\n",
      "       0.97628205, 0.975     ]), 'split3_test_score': array([0.93589744, 0.98205128, 0.98141026, 0.97564103, 0.98012821,\n",
      "       0.98076923, 0.98012821]), 'split4_test_score': array([0.9474359 , 0.98269231, 0.98141026, 0.98012821, 0.98461538,\n",
      "       0.98333333, 0.98397436]), 'mean_test_score': array([0.93551282, 0.98051282, 0.97935897, 0.9775641 , 0.97948718,\n",
      "       0.97923077, 0.97846154]), 'std_test_score': array([0.00938265, 0.00477295, 0.00476951, 0.00438529, 0.00382473,\n",
      "       0.00363976, 0.00443375]), 'rank_test_score': array([7, 1, 3, 6, 2, 4, 5], dtype=int32)}\n"
     ]
    },
    {
     "data": {
      "image/png": "[encoded data removed]",
      "text/plain": [
       "<matplotlib.figure.Figure at 0x113677fd0>"
      ]
     },
     "metadata": {},
     "output_type": "display_data"
    }
   ],
   "source": [
    "clf_knn = KNeighborsClassifier() \n",
    "pca_components_list_knn = [5, 20, 40, 60, 80, 100, 120]\n",
    "evaluate_pca_pipeline_cv(clf_knn, pca_components_list_knn, X_all_train, y_all_train, 'KNN')"
   ]
  },
  {
   "cell_type": "markdown",
   "metadata": {},
   "source": [
    "### LDA"
   ]
  },
  {
   "cell_type": "code",
   "execution_count": 8,
   "metadata": {
    "collapsed": true
   },
   "outputs": [],
   "source": [
    "def evaluate_lda_pipeline_cv(X_train, y_train, lda_components_list):\n",
    "    # create pipeline\n",
    "    estimators = []\n",
    "    \n",
    "    estimators.append(('standardize', preprocessing.StandardScaler()))\n",
    "    estimators.append(('lda', LinearDiscriminantAnalysis()))\n",
    "    model = Pipeline(estimators)\n",
    "    \n",
    "    # evaluate pipeline\n",
    "    # Parameters of pipelines can be set using ‘__’ separated parameter names:\n",
    "    param_grid = {\n",
    "        'lda__n_components': lda_components_list} \n",
    "\n",
    "    search = GridSearchCV(model, param_grid, iid=False, cv=5,\n",
    "                          return_train_score=False)\n",
    "    search.fit(X_train, y_train)\n",
    "    print(\"Best parameter (CV score=%0.3f):\" % search.best_score_)\n",
    "    print(\"Best parameter\", search.best_params_)\n",
    "    print()\n",
    "    print(search.cv_results_)\n",
    "    plot_grid_search(search.cv_results_, lda_components_list, 'lda_components_cv_results', 'LDA')"
   ]
  },
  {
   "cell_type": "code",
   "execution_count": 9,
   "metadata": {
    "collapsed": true
   },
   "outputs": [],
   "source": [
    "import warnings\n",
    "warnings.filterwarnings(\"ignore\", category=UserWarning) #   warnings.warn(\"Variables are collinear.\")"
   ]
  },
  {
   "cell_type": "code",
   "execution_count": 13,
   "metadata": {
    "collapsed": true
   },
   "outputs": [],
   "source": [
    "lda_components_list = [1,5,10]  # Number of components (< n_classes - 1) for dimensionality reduction."
   ]
  },
  {
   "cell_type": "code",
   "execution_count": 14,
   "metadata": {},
   "outputs": [
    {
     "name": "stdout",
     "output_type": "stream",
     "text": [
      "Best parameter (CV score=0.993):\n",
      "Best parameter {'lda__n_components': 1}\n",
      "\n",
      "{'mean_fit_time': array([107.32143502, 122.21640105, 109.83810539]), 'std_fit_time': array([ 3.39153128, 14.23388614,  5.26395984]), 'mean_score_time': array([0.17995162, 0.2308866 , 0.17698169]), 'std_score_time': array([0.01800641, 0.07007398, 0.00814567]), 'param_lda__n_components': masked_array(data=[1, 5, 10],\n",
      "             mask=[False, False, False],\n",
      "       fill_value='?',\n",
      "            dtype=object), 'params': [{'lda__n_components': 1}, {'lda__n_components': 5}, {'lda__n_components': 10}], 'split0_test_score': array([0.99551282, 0.99551282, 0.99551282]), 'split1_test_score': array([0.99102564, 0.99102564, 0.99102564]), 'split2_test_score': array([0.99230769, 0.99230769, 0.99230769]), 'split3_test_score': array([0.99294872, 0.99294872, 0.99294872]), 'split4_test_score': array([0.99551282, 0.99551282, 0.99551282]), 'mean_test_score': array([0.99346154, 0.99346154, 0.99346154]), 'std_test_score': array([0.00178569, 0.00178569, 0.00178569]), 'rank_test_score': array([1, 1, 1], dtype=int32)}\n"
     ]
    },
    {
     "data": {
      "image/png": "[encoded data removed]",
      "text/plain": [
       "<matplotlib.figure.Figure at 0x103fd94a8>"
      ]
     },
     "metadata": {},
     "output_type": "display_data"
    }
   ],
   "source": [
    "evaluate_lda_pipeline_cv(X_all_train, y_all_train, lda_components_list)"
   ]
  },
  {
   "cell_type": "code",
   "execution_count": 67,
   "metadata": {},
   "outputs": [
    {
     "name": "stdout",
     "output_type": "stream",
     "text": [
      "Best parameter (CV score=0.982):\n",
      "Best parameter {'pca__n_components': 280}\n",
      "\n",
      "{'mean_fit_time': array([ 3.75061359,  3.62151666,  3.99457645,  4.49201818,  4.99370537,\n",
      "        5.6947124 ,  5.91448793,  6.3880754 ,  6.65719275,  7.29656806,\n",
      "        7.7878706 ,  8.44489064,  9.118501  ,  8.97022095, 10.703372  ,\n",
      "       10.21544843]), 'std_fit_time': array([0.37191301, 0.01058796, 0.05520422, 0.03619017, 0.12640196,\n",
      "       0.1360285 , 0.09911617, 0.08007864, 0.09233403, 0.10371202,\n",
      "       0.2367435 , 0.62710774, 0.81658424, 0.02303139, 1.34816452,\n",
      "       0.36031863]), 'mean_score_time': array([0.14523091, 0.11957245, 0.17086439, 0.17568884, 0.18264627,\n",
      "       0.19769363, 0.20187821, 0.20478802, 0.20543365, 0.20916104,\n",
      "       0.2326148 , 0.22718153, 0.22560992, 0.22961621, 0.25115218,\n",
      "       0.24218578]), 'std_score_time': array([0.00888332, 0.00660011, 0.00469648, 0.00281256, 0.00866753,\n",
      "       0.00711317, 0.00404241, 0.01107201, 0.00664663, 0.00255784,\n",
      "       0.0321045 , 0.01504965, 0.00299605, 0.00153439, 0.02524038,\n",
      "       0.00314744]), 'param_pca__n_components': masked_array(data=[5, 20, 40, 60, 80, 100, 120, 140, 160, 180, 200, 220,\n",
      "                   240, 260, 280, 300],\n",
      "             mask=[False, False, False, False, False, False, False, False,\n",
      "                   False, False, False, False, False, False, False, False],\n",
      "       fill_value='?',\n",
      "            dtype=object), 'params': [{'pca__n_components': 5}, {'pca__n_components': 20}, {'pca__n_components': 40}, {'pca__n_components': 60}, {'pca__n_components': 80}, {'pca__n_components': 100}, {'pca__n_components': 120}, {'pca__n_components': 140}, {'pca__n_components': 160}, {'pca__n_components': 180}, {'pca__n_components': 200}, {'pca__n_components': 220}, {'pca__n_components': 240}, {'pca__n_components': 260}, {'pca__n_components': 280}, {'pca__n_components': 300}], 'split0_test_score': array([0.90512821, 0.9775641 , 0.98205128, 0.98333333, 0.98205128,\n",
      "       0.97948718, 0.97884615, 0.97820513, 0.97820513, 0.97948718,\n",
      "       0.98012821, 0.98076923, 0.98012821, 0.98076923, 0.98269231,\n",
      "       0.98205128]), 'split1_test_score': array([0.89166667, 0.96346154, 0.96923077, 0.96794872, 0.97307692,\n",
      "       0.97435897, 0.97179487, 0.97115385, 0.97435897, 0.97628205,\n",
      "       0.97435897, 0.97628205, 0.97628205, 0.9775641 , 0.97692308,\n",
      "       0.9775641 ]), 'split2_test_score': array([0.88205128, 0.975     , 0.9775641 , 0.97628205, 0.98012821,\n",
      "       0.98012821, 0.97948718, 0.98333333, 0.98141026, 0.98141026,\n",
      "       0.98141026, 0.98076923, 0.98141026, 0.97948718, 0.98205128,\n",
      "       0.98141026]), 'split3_test_score': array([0.90064103, 0.9724359 , 0.97435897, 0.97628205, 0.97692308,\n",
      "       0.98012821, 0.98012821, 0.97948718, 0.98269231, 0.98397436,\n",
      "       0.98397436, 0.98269231, 0.98205128, 0.98333333, 0.98269231,\n",
      "       0.98269231]), 'split4_test_score': array([0.90512821, 0.97820513, 0.98269231, 0.98333333, 0.98269231,\n",
      "       0.98525641, 0.98333333, 0.98397436, 0.98333333, 0.98461538,\n",
      "       0.98461538, 0.98397436, 0.98397436, 0.98397436, 0.98333333,\n",
      "       0.98333333]), 'mean_test_score': array([0.89692308, 0.97333333, 0.97717949, 0.9774359 , 0.97897436,\n",
      "       0.97987179, 0.97871795, 0.97923077, 0.98      , 0.98115385,\n",
      "       0.98089744, 0.98089744, 0.98076923, 0.98102564, 0.98153846,\n",
      "       0.98141026]), 'std_test_score': array([0.00891371, 0.00534171, 0.00500821, 0.00569612, 0.00356678,\n",
      "       0.00345441, 0.00379019, 0.00459754, 0.0033284 , 0.0030501 ,\n",
      "       0.00365778, 0.00260859, 0.0025641 , 0.00238475, 0.00234303,\n",
      "       0.0020271 ]), 'rank_test_score': array([16, 15, 14, 13, 11,  9, 12, 10,  8,  3,  5,  5,  7,  4,  1,  2],\n",
      "      dtype=int32)}\n"
     ]
    },
    {
     "data": {
      "image/png": "[encoded data removed]",
      "text/plain": [
       "<matplotlib.figure.Figure at 0x111e4b278>"
      ]
     },
     "metadata": {},
     "output_type": "display_data"
    }
   ],
   "source": [
    "clf_lda = LinearDiscriminantAnalysis() # TODO: use eigen\n",
    "pca_components_list_lda = [5, 20, 40, 60, 80, 100, 120, 140, 160, 180, 200, 220, 240, 260, 280, 300]\n",
    "evaluate_pca_pipeline_cv(clf_lda, pca_components_list_lda, X_all_train, y_all_train, 'LDA')"
   ]
  },
  {
   "cell_type": "markdown",
   "metadata": {},
   "source": [
    "### SVM"
   ]
  },
  {
   "cell_type": "code",
   "execution_count": 27,
   "metadata": {},
   "outputs": [
    {
     "name": "stdout",
     "output_type": "stream",
     "text": [
      "Best parameter (CV score=0.986):\n",
      "Best parameter {'pca__n_components': 2500}\n",
      "\n",
      "{'mean_fit_time': array([ 14.49962635,  18.5128334 ,  17.04440985,  32.93997102,\n",
      "        31.77408051,  52.09696984,  68.48967662, 112.58074865,\n",
      "       105.49421048, 124.59715109]), 'std_fit_time': array([ 0.62615914,  0.61432498,  0.5277262 ,  2.82429796,  1.98160337,\n",
      "        4.12713173,  0.58789419, 32.76885693, 10.2558505 , 68.28526881]), 'mean_score_time': array([0.84671602, 1.16813707, 1.46450133, 2.6479794 , 2.85319586,\n",
      "       4.71648636, 5.72900825, 7.22165585, 8.05165052, 9.3287858 ]), 'std_score_time': array([0.02527177, 0.08045884, 0.13857391, 0.12503884, 0.13605174,\n",
      "       0.52146336, 0.09261315, 0.0638869 , 0.29744856, 0.1146419 ]), 'param_pca__n_components': masked_array(data=[300, 400, 500, 900, 1000, 1500, 2000, 2500, 3000, 3500],\n",
      "             mask=[False, False, False, False, False, False, False, False,\n",
      "                   False, False],\n",
      "       fill_value='?',\n",
      "            dtype=object), 'params': [{'pca__n_components': 300}, {'pca__n_components': 400}, {'pca__n_components': 500}, {'pca__n_components': 900}, {'pca__n_components': 1000}, {'pca__n_components': 1500}, {'pca__n_components': 2000}, {'pca__n_components': 2500}, {'pca__n_components': 3000}, {'pca__n_components': 3500}], 'split0_test_score': array([0.98205128, 0.98076923, 0.98205128, 0.98269231, 0.98397436,\n",
      "       0.98461538, 0.98461538, 0.98461538, 0.98397436, 0.98461538]), 'split1_test_score': array([0.98205128, 0.98269231, 0.98269231, 0.98397436, 0.98333333,\n",
      "       0.98397436, 0.98397436, 0.98589744, 0.98525641, 0.98461538]), 'split2_test_score': array([0.98205128, 0.98397436, 0.98333333, 0.98333333, 0.98397436,\n",
      "       0.98333333, 0.98397436, 0.98461538, 0.98461538, 0.98461538]), 'split3_test_score': array([0.98397436, 0.98782051, 0.98717949, 0.98782051, 0.98717949,\n",
      "       0.98717949, 0.98717949, 0.98782051, 0.98782051, 0.98782051]), 'split4_test_score': array([0.98461538, 0.98397436, 0.98269231, 0.98525641, 0.98525641,\n",
      "       0.98525641, 0.98525641, 0.98525641, 0.98525641, 0.98525641]), 'mean_test_score': array([0.98294872, 0.98384615, 0.98358974, 0.98461538, 0.98474359,\n",
      "       0.98487179, 0.985     , 0.98564103, 0.98538462, 0.98538462]), 'std_test_score': array([0.00111767, 0.00230769, 0.00184009, 0.00181309, 0.00136886,\n",
      "       0.00131995, 0.00118893, 0.00118893, 0.00130744, 0.00124299]), 'rank_test_score': array([10,  8,  9,  7,  6,  5,  4,  1,  2,  2], dtype=int32)}\n"
     ]
    },
    {
     "data": {
      "image/png": "[encoded data removed]",
      "text/plain": [
       "<matplotlib.figure.Figure at 0x120cedba8>"
      ]
     },
     "metadata": {},
     "output_type": "display_data"
    }
   ],
   "source": [
    "clf_svc = SVC(kernel='linear', C=1E10)\n",
    "pca_components_list_svm = [300, 400, 500, 900, 1000, 1500, 2000, 2500, 3000, 3500]\n",
    "evaluate_pca_pipeline_cv(clf_svc, pca_components_list_svm, X_all_train, y_all_train, 'SVM')"
   ]
  },
  {
   "cell_type": "markdown",
   "metadata": {},
   "source": [
    "### Log Regression"
   ]
  },
  {
   "cell_type": "code",
   "execution_count": 24,
   "metadata": {
    "collapsed": true
   },
   "outputs": [],
   "source": [
    "#from sklearn.exceptions import FutureWarning\n",
    "import warnings\n",
    "warnings.filterwarnings(action='ignore', category=FutureWarning)"
   ]
  },
  {
   "cell_type": "code",
   "execution_count": 25,
   "metadata": {},
   "outputs": [
    {
     "name": "stdout",
     "output_type": "stream",
     "text": [
      "Best parameter (CV score=0.984):\n",
      "Best parameter {'pca__n_components': 1100}\n",
      "\n",
      "{'mean_fit_time': array([ 230.55718012,  276.84537625,  410.32290487,  640.03983822,\n",
      "        477.31202374,  567.12099547, 1867.93078213]), 'std_fit_time': array([  10.04514055,   17.0309574 ,   29.63399487,  319.47006183,\n",
      "         28.25631377,  156.4139993 , 2318.40125605]), 'mean_score_time': array([0.37514815, 0.39543953, 0.56026325, 0.55049462, 0.57503104,\n",
      "       0.54672775, 0.78025022]), 'std_score_time': array([0.06708543, 0.04690179, 0.14683428, 0.09848732, 0.06683819,\n",
      "       0.00654897, 0.08923047]), 'param_pca__n_components': masked_array(data=[400, 500, 800, 900, 1000, 1100, 1500],\n",
      "             mask=[False, False, False, False, False, False, False],\n",
      "       fill_value='?',\n",
      "            dtype=object), 'params': [{'pca__n_components': 400}, {'pca__n_components': 500}, {'pca__n_components': 800}, {'pca__n_components': 900}, {'pca__n_components': 1000}, {'pca__n_components': 1100}, {'pca__n_components': 1500}], 'split0_test_score': array([0.97948718, 0.98205128, 0.98333333, 0.98397436, 0.98397436,\n",
      "       0.98525641, 0.98525641]), 'split1_test_score': array([0.98141026, 0.97948718, 0.98076923, 0.98076923, 0.98012821,\n",
      "       0.98205128, 0.98076923]), 'split2_test_score': array([0.98141026, 0.98205128, 0.98397436, 0.98269231, 0.98461538,\n",
      "       0.98525641, 0.98525641]), 'split3_test_score': array([0.98205128, 0.98269231, 0.98397436, 0.98461538, 0.98397436,\n",
      "       0.98333333, 0.98333333]), 'split4_test_score': array([0.98589744, 0.98653846, 0.98653846, 0.98717949, 0.98525641,\n",
      "       0.98653846, 0.98589744]), 'mean_test_score': array([0.98205128, 0.9825641 , 0.98371795, 0.98384615, 0.98358974,\n",
      "       0.98448718, 0.98410256]), 'std_test_score': array([0.00210663, 0.0022718 , 0.00184009, 0.00212217, 0.00179487,\n",
      "       0.00159098, 0.00187548]), 'rank_test_score': array([7, 6, 4, 3, 5, 1, 2], dtype=int32)}\n"
     ]
    },
    {
     "data": {
      "image/png": "[encoded data removed]",
      "text/plain": [
       "<matplotlib.figure.Figure at 0x128a39f60>"
      ]
     },
     "metadata": {},
     "output_type": "display_data"
    }
   ],
   "source": [
    "logreg_l2 = LogisticRegression(penalty='l2',solver='saga', max_iter=3000, n_jobs=-1)\n",
    "pca_components_list_log = [400, 500, 800, 900, 1000, 1100, 1500]\n",
    "evaluate_pca_pipeline_cv(logreg_l2, pca_components_list_log, X_all_train, y_all_train, 'Log Regression')"
   ]
  },
  {
   "cell_type": "markdown",
   "metadata": {},
   "source": [
    "# Visualisations"
   ]
  },
  {
   "cell_type": "code",
   "execution_count": 10,
   "metadata": {
    "collapsed": true
   },
   "outputs": [],
   "source": [
    "#https://towardsdatascience.com/pca-using-python-scikit-learn-e653f8989e60"
   ]
  },
  {
   "cell_type": "markdown",
   "metadata": {},
   "source": [
    "### PCA"
   ]
  },
  {
   "cell_type": "code",
   "execution_count": 58,
   "metadata": {
    "collapsed": true
   },
   "outputs": [],
   "source": [
    "pca = PCA(n_components=2)\n",
    "principalComponents = pca.fit_transform(train_std)\n",
    "principalDf = pd.DataFrame(data = principalComponents\n",
    "             , columns = ['principal component 1', 'principal component 2'])"
   ]
  },
  {
   "cell_type": "code",
   "execution_count": 59,
   "metadata": {
    "collapsed": true
   },
   "outputs": [],
   "source": [
    "targets_train = train_df.loc[:, train_df.columns == 'categories']"
   ]
  },
  {
   "cell_type": "code",
   "execution_count": 60,
   "metadata": {
    "collapsed": true
   },
   "outputs": [],
   "source": [
    "finalDf = pd.concat([principalDf, targets_train[['categories']]], axis = 1)"
   ]
  },
  {
   "cell_type": "code",
   "execution_count": 61,
   "metadata": {},
   "outputs": [
    {
     "data": {
      "text/html": [
       "<div>\n",
       "<style scoped>\n",
       "    .dataframe tbody tr th:only-of-type {\n",
       "        vertical-align: middle;\n",
       "    }\n",
       "\n",
       "    .dataframe tbody tr th {\n",
       "        vertical-align: top;\n",
       "    }\n",
       "\n",
       "    .dataframe thead th {\n",
       "        text-align: right;\n",
       "    }\n",
       "</style>\n",
       "<table border=\"1\" class=\"dataframe\">\n",
       "  <thead>\n",
       "    <tr style=\"text-align: right;\">\n",
       "      <th></th>\n",
       "      <th>principal component 1</th>\n",
       "      <th>principal component 2</th>\n",
       "      <th>categories</th>\n",
       "    </tr>\n",
       "  </thead>\n",
       "  <tbody>\n",
       "    <tr>\n",
       "      <th>0</th>\n",
       "      <td>-12.133534</td>\n",
       "      <td>21.757475</td>\n",
       "      <td>0</td>\n",
       "    </tr>\n",
       "    <tr>\n",
       "      <th>1</th>\n",
       "      <td>-7.933527</td>\n",
       "      <td>15.492664</td>\n",
       "      <td>0</td>\n",
       "    </tr>\n",
       "    <tr>\n",
       "      <th>2</th>\n",
       "      <td>-11.116447</td>\n",
       "      <td>23.699116</td>\n",
       "      <td>0</td>\n",
       "    </tr>\n",
       "    <tr>\n",
       "      <th>3</th>\n",
       "      <td>-13.937126</td>\n",
       "      <td>20.478139</td>\n",
       "      <td>0</td>\n",
       "    </tr>\n",
       "    <tr>\n",
       "      <th>4</th>\n",
       "      <td>-9.725359</td>\n",
       "      <td>21.177356</td>\n",
       "      <td>0</td>\n",
       "    </tr>\n",
       "  </tbody>\n",
       "</table>\n",
       "</div>"
      ],
      "text/plain": [
       "   principal component 1  principal component 2  categories\n",
       "0             -12.133534              21.757475           0\n",
       "1              -7.933527              15.492664           0\n",
       "2             -11.116447              23.699116           0\n",
       "3             -13.937126              20.478139           0\n",
       "4              -9.725359              21.177356           0"
      ]
     },
     "execution_count": 61,
     "metadata": {},
     "output_type": "execute_result"
    }
   ],
   "source": [
    "finalDf.head()"
   ]
  },
  {
   "cell_type": "code",
   "execution_count": 62,
   "metadata": {},
   "outputs": [
    {
     "data": {
      "text/html": [
       "<div>\n",
       "<style scoped>\n",
       "    .dataframe tbody tr th:only-of-type {\n",
       "        vertical-align: middle;\n",
       "    }\n",
       "\n",
       "    .dataframe tbody tr th {\n",
       "        vertical-align: top;\n",
       "    }\n",
       "\n",
       "    .dataframe thead th {\n",
       "        text-align: right;\n",
       "    }\n",
       "</style>\n",
       "<table border=\"1\" class=\"dataframe\">\n",
       "  <thead>\n",
       "    <tr style=\"text-align: right;\">\n",
       "      <th></th>\n",
       "      <th>principal component 1</th>\n",
       "      <th>principal component 2</th>\n",
       "    </tr>\n",
       "    <tr>\n",
       "      <th>categories</th>\n",
       "      <th></th>\n",
       "      <th></th>\n",
       "    </tr>\n",
       "  </thead>\n",
       "  <tbody>\n",
       "    <tr>\n",
       "      <th>0</th>\n",
       "      <td>650</td>\n",
       "      <td>650</td>\n",
       "    </tr>\n",
       "    <tr>\n",
       "      <th>1</th>\n",
       "      <td>650</td>\n",
       "      <td>650</td>\n",
       "    </tr>\n",
       "    <tr>\n",
       "      <th>2</th>\n",
       "      <td>650</td>\n",
       "      <td>650</td>\n",
       "    </tr>\n",
       "    <tr>\n",
       "      <th>3</th>\n",
       "      <td>650</td>\n",
       "      <td>650</td>\n",
       "    </tr>\n",
       "    <tr>\n",
       "      <th>4</th>\n",
       "      <td>650</td>\n",
       "      <td>650</td>\n",
       "    </tr>\n",
       "    <tr>\n",
       "      <th>5</th>\n",
       "      <td>650</td>\n",
       "      <td>650</td>\n",
       "    </tr>\n",
       "    <tr>\n",
       "      <th>6</th>\n",
       "      <td>650</td>\n",
       "      <td>650</td>\n",
       "    </tr>\n",
       "    <tr>\n",
       "      <th>7</th>\n",
       "      <td>650</td>\n",
       "      <td>650</td>\n",
       "    </tr>\n",
       "    <tr>\n",
       "      <th>8</th>\n",
       "      <td>650</td>\n",
       "      <td>650</td>\n",
       "    </tr>\n",
       "    <tr>\n",
       "      <th>9</th>\n",
       "      <td>650</td>\n",
       "      <td>650</td>\n",
       "    </tr>\n",
       "    <tr>\n",
       "      <th>10</th>\n",
       "      <td>650</td>\n",
       "      <td>650</td>\n",
       "    </tr>\n",
       "    <tr>\n",
       "      <th>11</th>\n",
       "      <td>650</td>\n",
       "      <td>650</td>\n",
       "    </tr>\n",
       "  </tbody>\n",
       "</table>\n",
       "</div>"
      ],
      "text/plain": [
       "            principal component 1  principal component 2\n",
       "categories                                              \n",
       "0                             650                    650\n",
       "1                             650                    650\n",
       "2                             650                    650\n",
       "3                             650                    650\n",
       "4                             650                    650\n",
       "5                             650                    650\n",
       "6                             650                    650\n",
       "7                             650                    650\n",
       "8                             650                    650\n",
       "9                             650                    650\n",
       "10                            650                    650\n",
       "11                            650                    650"
      ]
     },
     "execution_count": 62,
     "metadata": {},
     "output_type": "execute_result"
    }
   ],
   "source": [
    "finalDf.groupby('categories').count()"
   ]
  },
  {
   "cell_type": "code",
   "execution_count": 66,
   "metadata": {
    "collapsed": true
   },
   "outputs": [],
   "source": [
    "fig = plt.figure(figsize = (8,8))\n",
    "ax = fig.add_subplot(1,1,1) \n",
    "ax.set_xlabel('Principal Component 1', fontsize = 15)\n",
    "ax.set_ylabel('Principal Component 2', fontsize = 15)\n",
    "ax.set_title('2 component PCA', fontsize = 20)\n",
    "targets = [0, 1, 2, 3, 4, 5, 6, 7, 8, 9, 10, 11]\n",
    "colors = ['r', 'maroon', 'coral', 'orange',\n",
    "            'olive', 'g', 'b', 'y',\n",
    "            'purple', 'sienna', 'darkseagreen', 'skyblue']\n",
    "for target, color in zip(targets,colors):\n",
    "    indicesToKeep = finalDf['categories'] == target\n",
    "    ax.scatter(finalDf.loc[indicesToKeep, 'principal component 1']\n",
    "               , finalDf.loc[indicesToKeep, 'principal component 2']\n",
    "               , c = color\n",
    "               , s = 50)\n",
    "ax.legend(targets)\n",
    "ax.grid()"
   ]
  },
  {
   "cell_type": "code",
   "execution_count": 67,
   "metadata": {
    "collapsed": true
   },
   "outputs": [],
   "source": [
    "plt.savefig('pca_2_components_visual' +'.png')"
   ]
  },
  {
   "cell_type": "code",
   "execution_count": 68,
   "metadata": {},
   "outputs": [
    {
     "data": {
      "image/png": "[encoded data removed]",
      "text/plain": [
       "<matplotlib.figure.Figure at 0x112d43048>"
      ]
     },
     "metadata": {},
     "output_type": "display_data"
    }
   ],
   "source": [
    "plt.show()"
   ]
  },
  {
   "cell_type": "code",
   "execution_count": 70,
   "metadata": {
    "collapsed": true
   },
   "outputs": [],
   "source": [
    "plt.gcf().clear()"
   ]
  },
  {
   "cell_type": "markdown",
   "metadata": {},
   "source": [
    "### LDA"
   ]
  },
  {
   "cell_type": "code",
   "execution_count": 69,
   "metadata": {},
   "outputs": [
    {
     "name": "stderr",
     "output_type": "stream",
     "text": [
      "/Users/sdoneva/anaconda/lib/python3.6/site-packages/sklearn/discriminant_analysis.py:388: UserWarning: Variables are collinear.\n",
      "  warnings.warn(\"Variables are collinear.\")\n"
     ]
    }
   ],
   "source": [
    "lda = LinearDiscriminantAnalysis(n_components=2)\n",
    "ldaComponents = lda.fit_transform(train_std, y_all_train)\n",
    "ldalDf = pd.DataFrame(data = ldaComponents\n",
    "             , columns = ['lda component 1', 'lda component 2'])"
   ]
  },
  {
   "cell_type": "code",
   "execution_count": 34,
   "metadata": {
    "collapsed": true
   },
   "outputs": [],
   "source": [
    "finalDf_lda = pd.concat([ldalDf, targets_train[['categories']]], axis = 1)"
   ]
  },
  {
   "cell_type": "code",
   "execution_count": 71,
   "metadata": {},
   "outputs": [
    {
     "data": {
      "text/html": [
       "<div>\n",
       "<style scoped>\n",
       "    .dataframe tbody tr th:only-of-type {\n",
       "        vertical-align: middle;\n",
       "    }\n",
       "\n",
       "    .dataframe tbody tr th {\n",
       "        vertical-align: top;\n",
       "    }\n",
       "\n",
       "    .dataframe thead th {\n",
       "        text-align: right;\n",
       "    }\n",
       "</style>\n",
       "<table border=\"1\" class=\"dataframe\">\n",
       "  <thead>\n",
       "    <tr style=\"text-align: right;\">\n",
       "      <th></th>\n",
       "      <th>lda component 1</th>\n",
       "      <th>lda component 2</th>\n",
       "      <th>categories</th>\n",
       "    </tr>\n",
       "  </thead>\n",
       "  <tbody>\n",
       "    <tr>\n",
       "      <th>0</th>\n",
       "      <td>-31.383258</td>\n",
       "      <td>3.428200</td>\n",
       "      <td>0</td>\n",
       "    </tr>\n",
       "    <tr>\n",
       "      <th>1</th>\n",
       "      <td>-31.133292</td>\n",
       "      <td>2.614232</td>\n",
       "      <td>0</td>\n",
       "    </tr>\n",
       "    <tr>\n",
       "      <th>2</th>\n",
       "      <td>-31.251893</td>\n",
       "      <td>4.283051</td>\n",
       "      <td>0</td>\n",
       "    </tr>\n",
       "    <tr>\n",
       "      <th>3</th>\n",
       "      <td>-30.377577</td>\n",
       "      <td>4.343752</td>\n",
       "      <td>0</td>\n",
       "    </tr>\n",
       "    <tr>\n",
       "      <th>4</th>\n",
       "      <td>-31.357378</td>\n",
       "      <td>4.113360</td>\n",
       "      <td>0</td>\n",
       "    </tr>\n",
       "  </tbody>\n",
       "</table>\n",
       "</div>"
      ],
      "text/plain": [
       "   lda component 1  lda component 2  categories\n",
       "0       -31.383258         3.428200           0\n",
       "1       -31.133292         2.614232           0\n",
       "2       -31.251893         4.283051           0\n",
       "3       -30.377577         4.343752           0\n",
       "4       -31.357378         4.113360           0"
      ]
     },
     "execution_count": 71,
     "metadata": {},
     "output_type": "execute_result"
    }
   ],
   "source": [
    "finalDf_lda.head()"
   ]
  },
  {
   "cell_type": "code",
   "execution_count": 72,
   "metadata": {
    "collapsed": true
   },
   "outputs": [],
   "source": [
    "fig = plt.figure(figsize = (8,8))\n",
    "ax = fig.add_subplot(1,1,1) \n",
    "ax.set_xlabel('LDA Component 1', fontsize = 15)\n",
    "ax.set_ylabel('LDA Component 2', fontsize = 15)\n",
    "ax.set_title('2 component LDA', fontsize = 20)\n",
    "targets = [0, 1, 2, 3, 4, 5, 6, 7, 8, 9, 10, 11]\n",
    "colors = ['r', 'maroon', 'coral', 'orange',\n",
    "            'olive', 'g', 'b', 'y',\n",
    "            'purple', 'sienna', 'darkseagreen', 'skyblue']\n",
    "for target, color in zip(targets,colors):\n",
    "    indicesToKeep = finalDf_lda['categories'] == target\n",
    "    ax.scatter(finalDf_lda.loc[indicesToKeep, 'lda component 1']\n",
    "               , finalDf_lda.loc[indicesToKeep, 'lda component 2']\n",
    "               , c = color\n",
    "               , s = 50)\n",
    "ax.legend(targets)\n",
    "ax.grid()"
   ]
  },
  {
   "cell_type": "code",
   "execution_count": 73,
   "metadata": {
    "collapsed": true
   },
   "outputs": [],
   "source": [
    "plt.savefig('lda_2_components_visual' +'.png')"
   ]
  },
  {
   "cell_type": "code",
   "execution_count": 74,
   "metadata": {},
   "outputs": [
    {
     "data": {
      "text/plain": [
       "<matplotlib.figure.Figure at 0x1132c4470>"
      ]
     },
     "metadata": {},
     "output_type": "display_data"
    },
    {
     "data": {
      "image/png": "[encoded data removed]",
      "text/plain": [
       "<matplotlib.figure.Figure at 0x112dbacc0>"
      ]
     },
     "metadata": {},
     "output_type": "display_data"
    }
   ],
   "source": [
    "plt.show()"
   ]
  },
  {
   "cell_type": "code",
   "execution_count": null,
   "metadata": {
    "collapsed": true
   },
   "outputs": [],
   "source": [
    "plt.gcf().clear()"
   ]
  },
  {
   "cell_type": "markdown",
   "metadata": {},
   "source": [
    "# Once nr of components has been chosen"
   ]
  },
  {
   "cell_type": "code",
   "execution_count": 7,
   "metadata": {
    "collapsed": true
   },
   "outputs": [],
   "source": [
    "def generate_predictions_file(estimator, test_df, filename):\n",
    "    test_df = test_df.copy()\n",
    "    y_pred = estimator.predict(test_df)\n",
    "    test_df['categories'] = pd.Series(y_pred, index=test_df.index)\n",
    "    submission = test_df[['id','categories']]\n",
    "    submission.to_csv(filename + '.csv', index=False)"
   ]
  },
  {
   "cell_type": "code",
   "execution_count": null,
   "metadata": {
    "collapsed": true
   },
   "outputs": [],
   "source": [
    "# KNN\n",
    "knn_pca_pipe = Pipeline([('standardize', preprocessing.StandardScaler()),('pca', PCA(n_components = 20)), ('knn', KNeighborsClassifier())]) #create pipeline from pca to svm space\n",
    "fit = knn_pca_pipe.fit(X_all_train, y_all_train) #fit model"
   ]
  },
  {
   "cell_type": "code",
   "execution_count": null,
   "metadata": {
    "collapsed": true
   },
   "outputs": [],
   "source": [
    "generate_predictions_file(knn_pca_pipe, test_df, 'knn_pca_20')"
   ]
  },
  {
   "cell_type": "code",
   "execution_count": null,
   "metadata": {
    "collapsed": true
   },
   "outputs": [],
   "source": [
    "# SVM\n",
    "clf_svm_pca_pipe = Pipeline([('standardize', preprocessing.StandardScaler()),('pca', PCA(n_components = 2500)), ('svc', clf_svc)]) #create pipeline from pca to svm space\n",
    "fit = clf_svm_pca_pipe.fit(X_all_train, y_all_train) #fit model"
   ]
  },
  {
   "cell_type": "code",
   "execution_count": null,
   "metadata": {
    "collapsed": true
   },
   "outputs": [],
   "source": [
    "generate_predictions_file(clf_svm_pca_pipe, test_df, 'svm_linear_pca_2500')"
   ]
  },
  {
   "cell_type": "code",
   "execution_count": 15,
   "metadata": {
    "collapsed": true
   },
   "outputs": [],
   "source": [
    "# LDA - PCA\n",
    "lda_clf = LinearDiscriminantAnalysis()\n",
    "clf_lda_pca_pipe = Pipeline([('standardize', preprocessing.StandardScaler()), ('pca', PCA(n_components = 280)), ('lda', lda_clf)]) #create pipeline from pca to svm space\n",
    "fit = clf_lda_pca_pipe.fit(X_all_train, y_all_train) #fit model"
   ]
  },
  {
   "cell_type": "code",
   "execution_count": 17,
   "metadata": {
    "collapsed": true
   },
   "outputs": [],
   "source": [
    "generate_predictions_file(clf_lda_pca_pipe, test_df, 'lda_svd_pca_280')"
   ]
  },
  {
   "cell_type": "code",
   "execution_count": 18,
   "metadata": {
    "collapsed": true
   },
   "outputs": [],
   "source": [
    "# LDA - Dim Reduction\n",
    "lda_clf_dim = LinearDiscriminantAnalysis(n_components=2)\n",
    "clf_lda_dim_red_pipe = Pipeline([('standardize', preprocessing.StandardScaler()), ('lda', lda_clf_dim)]) #create pipeline from pca to svm space\n",
    "fit = clf_lda_dim_red_pipe.fit(X_all_train, y_all_train) #fit model"
   ]
  },
  {
   "cell_type": "code",
   "execution_count": null,
   "metadata": {
    "collapsed": true
   },
   "outputs": [],
   "source": [
    "generate_predictions_file(clf_lda_dim_red_pipe, test_df, 'lda_n_components_2')"
   ]
  },
  {
   "cell_type": "code",
   "execution_count": 8,
   "metadata": {},
   "outputs": [
    {
     "name": "stderr",
     "output_type": "stream",
     "text": [
      "/Users/sdoneva/anaconda/lib/python3.6/site-packages/sklearn/preprocessing/data.py:625: DataConversionWarning: Data with input dtype int64, float64 were all converted to float64 by StandardScaler.\n",
      "  return self.partial_fit(X, y)\n",
      "/Users/sdoneva/anaconda/lib/python3.6/site-packages/sklearn/base.py:465: DataConversionWarning: Data with input dtype int64, float64 were all converted to float64 by StandardScaler.\n",
      "  return self.fit(X, y, **fit_params).transform(X)\n",
      "/Users/sdoneva/anaconda/lib/python3.6/site-packages/sklearn/linear_model/logistic.py:460: FutureWarning: Default multi_class will be changed to 'auto' in 0.22. Specify the multi_class option to silence this warning.\n",
      "  \"this warning.\", FutureWarning)\n"
     ]
    }
   ],
   "source": [
    "# Logistic Regression\n",
    "log_reg_clf = LogisticRegression(penalty='l2', solver='saga', max_iter=3000, n_jobs=-1)\n",
    "clf_log_reg_dim_red_pipe = Pipeline([('standardize', preprocessing.StandardScaler()), ('pca', PCA(n_components = 1100)), ('logreg', log_reg_clf)]) #create pipeline from pca to svm space\n",
    "fit = clf_log_reg_dim_red_pipe.fit(X_all_train, y_all_train) #fit model"
   ]
  },
  {
   "cell_type": "code",
   "execution_count": 9,
   "metadata": {},
   "outputs": [
    {
     "name": "stderr",
     "output_type": "stream",
     "text": [
      "/Users/sdoneva/anaconda/lib/python3.6/site-packages/sklearn/pipeline.py:331: DataConversionWarning: Data with input dtype int64, float64 were all converted to float64 by StandardScaler.\n",
      "  Xt = transform.transform(Xt)\n"
     ]
    }
   ],
   "source": [
    "generate_predictions_file(clf_log_reg_dim_red_pipe, test_df, 'log_reg_l2_pca_1100')"
   ]
  },
  {
   "cell_type": "code",
   "execution_count": null,
   "metadata": {
    "collapsed": true
   },
   "outputs": [],
   "source": []
  }
 ],
 "metadata": {
  "kernelspec": {
   "display_name": "Python 3",
   "language": "python",
   "name": "python3"
  },
  "language_info": {
   "codemirror_mode": {
    "name": "ipython",
    "version": 3
   },
   "file_extension": ".py",
   "mimetype": "text/x-python",
   "name": "python",
   "nbconvert_exporter": "python",
   "pygments_lexer": "ipython3",
   "version": "3.6.3"
  }
 },
 "nbformat": 4,
 "nbformat_minor": 2
}
